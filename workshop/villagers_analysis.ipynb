{
 "cells": [
  {
   "cell_type": "markdown",
   "id": "4e2fb049",
   "metadata": {},
   "source": [
    "# ACNH Villagers\n",
    "This notebook loads the villager dataset and cleans some of the loaded data."
   ]
  },
  {
   "cell_type": "code",
   "execution_count": 31,
   "id": "556b332c",
   "metadata": {},
   "outputs": [],
   "source": [
    "# If you need to install packages in this environment, uncomment and run:\n",
    "# !pip install pandas numpy matplotlib seaborn scikit-learn scipy -q"
   ]
  },
  {
   "cell_type": "code",
   "execution_count": 32,
   "id": "75422116",
   "metadata": {},
   "outputs": [],
   "source": [
    "# Imports\n",
    "import json\n",
    "import os\n",
    "import numpy as np\n",
    "import pandas as pd\n",
    "import matplotlib.pyplot as plt\n",
    "import seaborn as sns\n",
    "from sklearn.preprocessing import LabelEncoder\n",
    "from sklearn.feature_selection import mutual_info_classif\n",
    "from sklearn.model_selection import StratifiedKFold, cross_val_score, cross_val_predict\n",
    "from sklearn.ensemble import RandomForestClassifier\n",
    "from sklearn.linear_model import LogisticRegression\n",
    "from sklearn.metrics import classification_report, confusion_matrix\n",
    "from scipy.stats import chi2_contingency\n",
    "%matplotlib inline"
   ]
  },
  {
   "cell_type": "markdown",
   "id": "1dd4989c",
   "metadata": {},
   "source": [
    "## Load data\n",
    "Read the CSV and show basic info."
   ]
  },
  {
   "cell_type": "code",
   "execution_count": 33,
   "id": "21d016cd",
   "metadata": {},
   "outputs": [
    {
     "name": "stdout",
     "output_type": "stream",
     "text": [
      "Shape: (391, 17)\n"
     ]
    },
    {
     "data": {
      "application/vnd.microsoft.datawrangler.viewer.v0+json": {
       "columns": [
        {
         "name": "index",
         "rawType": "int64",
         "type": "integer"
        },
        {
         "name": "Name",
         "rawType": "object",
         "type": "string"
        },
        {
         "name": "Species",
         "rawType": "object",
         "type": "string"
        },
        {
         "name": "Gender",
         "rawType": "object",
         "type": "string"
        },
        {
         "name": "Personality",
         "rawType": "object",
         "type": "string"
        },
        {
         "name": "Hobby",
         "rawType": "object",
         "type": "string"
        },
        {
         "name": "Birthday",
         "rawType": "object",
         "type": "string"
        },
        {
         "name": "Catchphrase",
         "rawType": "object",
         "type": "string"
        },
        {
         "name": "Favorite Song",
         "rawType": "object",
         "type": "string"
        },
        {
         "name": "Style 1",
         "rawType": "object",
         "type": "string"
        },
        {
         "name": "Style 2",
         "rawType": "object",
         "type": "string"
        },
        {
         "name": "Color 1",
         "rawType": "object",
         "type": "string"
        },
        {
         "name": "Color 2",
         "rawType": "object",
         "type": "string"
        },
        {
         "name": "Wallpaper",
         "rawType": "object",
         "type": "string"
        },
        {
         "name": "Flooring",
         "rawType": "object",
         "type": "string"
        },
        {
         "name": "Furniture List",
         "rawType": "object",
         "type": "string"
        },
        {
         "name": "Filename",
         "rawType": "object",
         "type": "string"
        },
        {
         "name": "Unique Entry ID",
         "rawType": "object",
         "type": "string"
        }
       ],
       "ref": "278f5873-4b9d-4607-9a92-95a9c76cfdf7",
       "rows": [
        [
         "0",
         "Admiral",
         "Bird",
         "Male",
         "Cranky",
         "Nature",
         "27-Jan",
         "aye aye",
         "Steep Hill",
         "Cool",
         "Cool",
         "Black",
         "Blue",
         "dirt-clod wall",
         "tatami",
         "717;1849;7047;2736;787;5970;3449;3622;3802;4106;3438;4029",
         "brd06",
         "B3RyfNEqwGmcccRC3"
        ],
        [
         "1",
         "Agent S",
         "Squirrel",
         "Female",
         "Peppy",
         "Fitness",
         "2-Jul",
         "sidekick",
         "Go K.K. Rider",
         "Active",
         "Simple",
         "Blue",
         "Black",
         "concrete wall",
         "colorful tile flooring",
         "7845;7150;3468;4080;290;3971;3449;1708;4756;2560;4753;7323;7789",
         "squ05",
         "SGMdki6dzpDZyXAw5"
        ],
        [
         "2",
         "Agnes",
         "Pig",
         "Female",
         "Big Sister",
         "Play",
         "21-Apr",
         "snuffle",
         "K.K. House",
         "Simple",
         "Elegant",
         "Pink",
         "White",
         "gray molded-panel wall",
         "arabesque flooring",
         "4129;7236;7235;7802;896;3428;4027;7325;3958;7136;3951;3773;7801",
         "pig17",
         "jzWCiDPm9MqtCfecP"
        ],
        [
         "3",
         "Al",
         "Gorilla",
         "Male",
         "Lazy",
         "Fitness",
         "18-Oct",
         "ayyyeee",
         "Go K.K. Rider",
         "Active",
         "Active",
         "Red",
         "White",
         "concrete wall",
         "green rubber flooring",
         "1452;4078;4013;833;4116;3697;7845;3307;3946;3960;7800",
         "gor08",
         "LBifxETQJGEaLhBjC"
        ],
        [
         "4",
         "Alfonso",
         "Alligator",
         "Male",
         "Lazy",
         "Play",
         "9-Jun",
         "it'sa me",
         "Forest Life",
         "Simple",
         "Simple",
         "Red",
         "Blue",
         "yellow playroom wall",
         "green honeycomb tile",
         "4763;3205;3701;1557;3623;85;3208;3584;4761;1217;3702",
         "crd00",
         "REpd8KxB8p9aGBRSE"
        ]
       ],
       "shape": {
        "columns": 17,
        "rows": 5
       }
      },
      "text/html": [
       "<div>\n",
       "<style scoped>\n",
       "    .dataframe tbody tr th:only-of-type {\n",
       "        vertical-align: middle;\n",
       "    }\n",
       "\n",
       "    .dataframe tbody tr th {\n",
       "        vertical-align: top;\n",
       "    }\n",
       "\n",
       "    .dataframe thead th {\n",
       "        text-align: right;\n",
       "    }\n",
       "</style>\n",
       "<table border=\"1\" class=\"dataframe\">\n",
       "  <thead>\n",
       "    <tr style=\"text-align: right;\">\n",
       "      <th></th>\n",
       "      <th>Name</th>\n",
       "      <th>Species</th>\n",
       "      <th>Gender</th>\n",
       "      <th>Personality</th>\n",
       "      <th>Hobby</th>\n",
       "      <th>Birthday</th>\n",
       "      <th>Catchphrase</th>\n",
       "      <th>Favorite Song</th>\n",
       "      <th>Style 1</th>\n",
       "      <th>Style 2</th>\n",
       "      <th>Color 1</th>\n",
       "      <th>Color 2</th>\n",
       "      <th>Wallpaper</th>\n",
       "      <th>Flooring</th>\n",
       "      <th>Furniture List</th>\n",
       "      <th>Filename</th>\n",
       "      <th>Unique Entry ID</th>\n",
       "    </tr>\n",
       "  </thead>\n",
       "  <tbody>\n",
       "    <tr>\n",
       "      <th>0</th>\n",
       "      <td>Admiral</td>\n",
       "      <td>Bird</td>\n",
       "      <td>Male</td>\n",
       "      <td>Cranky</td>\n",
       "      <td>Nature</td>\n",
       "      <td>27-Jan</td>\n",
       "      <td>aye aye</td>\n",
       "      <td>Steep Hill</td>\n",
       "      <td>Cool</td>\n",
       "      <td>Cool</td>\n",
       "      <td>Black</td>\n",
       "      <td>Blue</td>\n",
       "      <td>dirt-clod wall</td>\n",
       "      <td>tatami</td>\n",
       "      <td>717;1849;7047;2736;787;5970;3449;3622;3802;410...</td>\n",
       "      <td>brd06</td>\n",
       "      <td>B3RyfNEqwGmcccRC3</td>\n",
       "    </tr>\n",
       "    <tr>\n",
       "      <th>1</th>\n",
       "      <td>Agent S</td>\n",
       "      <td>Squirrel</td>\n",
       "      <td>Female</td>\n",
       "      <td>Peppy</td>\n",
       "      <td>Fitness</td>\n",
       "      <td>2-Jul</td>\n",
       "      <td>sidekick</td>\n",
       "      <td>Go K.K. Rider</td>\n",
       "      <td>Active</td>\n",
       "      <td>Simple</td>\n",
       "      <td>Blue</td>\n",
       "      <td>Black</td>\n",
       "      <td>concrete wall</td>\n",
       "      <td>colorful tile flooring</td>\n",
       "      <td>7845;7150;3468;4080;290;3971;3449;1708;4756;25...</td>\n",
       "      <td>squ05</td>\n",
       "      <td>SGMdki6dzpDZyXAw5</td>\n",
       "    </tr>\n",
       "    <tr>\n",
       "      <th>2</th>\n",
       "      <td>Agnes</td>\n",
       "      <td>Pig</td>\n",
       "      <td>Female</td>\n",
       "      <td>Big Sister</td>\n",
       "      <td>Play</td>\n",
       "      <td>21-Apr</td>\n",
       "      <td>snuffle</td>\n",
       "      <td>K.K. House</td>\n",
       "      <td>Simple</td>\n",
       "      <td>Elegant</td>\n",
       "      <td>Pink</td>\n",
       "      <td>White</td>\n",
       "      <td>gray molded-panel wall</td>\n",
       "      <td>arabesque flooring</td>\n",
       "      <td>4129;7236;7235;7802;896;3428;4027;7325;3958;71...</td>\n",
       "      <td>pig17</td>\n",
       "      <td>jzWCiDPm9MqtCfecP</td>\n",
       "    </tr>\n",
       "    <tr>\n",
       "      <th>3</th>\n",
       "      <td>Al</td>\n",
       "      <td>Gorilla</td>\n",
       "      <td>Male</td>\n",
       "      <td>Lazy</td>\n",
       "      <td>Fitness</td>\n",
       "      <td>18-Oct</td>\n",
       "      <td>ayyyeee</td>\n",
       "      <td>Go K.K. Rider</td>\n",
       "      <td>Active</td>\n",
       "      <td>Active</td>\n",
       "      <td>Red</td>\n",
       "      <td>White</td>\n",
       "      <td>concrete wall</td>\n",
       "      <td>green rubber flooring</td>\n",
       "      <td>1452;4078;4013;833;4116;3697;7845;3307;3946;39...</td>\n",
       "      <td>gor08</td>\n",
       "      <td>LBifxETQJGEaLhBjC</td>\n",
       "    </tr>\n",
       "    <tr>\n",
       "      <th>4</th>\n",
       "      <td>Alfonso</td>\n",
       "      <td>Alligator</td>\n",
       "      <td>Male</td>\n",
       "      <td>Lazy</td>\n",
       "      <td>Play</td>\n",
       "      <td>9-Jun</td>\n",
       "      <td>it'sa me</td>\n",
       "      <td>Forest Life</td>\n",
       "      <td>Simple</td>\n",
       "      <td>Simple</td>\n",
       "      <td>Red</td>\n",
       "      <td>Blue</td>\n",
       "      <td>yellow playroom wall</td>\n",
       "      <td>green honeycomb tile</td>\n",
       "      <td>4763;3205;3701;1557;3623;85;3208;3584;4761;121...</td>\n",
       "      <td>crd00</td>\n",
       "      <td>REpd8KxB8p9aGBRSE</td>\n",
       "    </tr>\n",
       "  </tbody>\n",
       "</table>\n",
       "</div>"
      ],
      "text/plain": [
       "      Name    Species  Gender Personality    Hobby Birthday Catchphrase  \\\n",
       "0  Admiral       Bird    Male      Cranky   Nature   27-Jan     aye aye   \n",
       "1  Agent S   Squirrel  Female       Peppy  Fitness    2-Jul    sidekick   \n",
       "2    Agnes        Pig  Female  Big Sister     Play   21-Apr     snuffle   \n",
       "3       Al    Gorilla    Male        Lazy  Fitness   18-Oct     ayyyeee   \n",
       "4  Alfonso  Alligator    Male        Lazy     Play    9-Jun    it'sa me   \n",
       "\n",
       "   Favorite Song Style 1  Style 2 Color 1 Color 2               Wallpaper  \\\n",
       "0     Steep Hill    Cool     Cool   Black    Blue          dirt-clod wall   \n",
       "1  Go K.K. Rider  Active   Simple    Blue   Black           concrete wall   \n",
       "2     K.K. House  Simple  Elegant    Pink   White  gray molded-panel wall   \n",
       "3  Go K.K. Rider  Active   Active     Red   White           concrete wall   \n",
       "4    Forest Life  Simple   Simple     Red    Blue    yellow playroom wall   \n",
       "\n",
       "                 Flooring                                     Furniture List  \\\n",
       "0                  tatami  717;1849;7047;2736;787;5970;3449;3622;3802;410...   \n",
       "1  colorful tile flooring  7845;7150;3468;4080;290;3971;3449;1708;4756;25...   \n",
       "2      arabesque flooring  4129;7236;7235;7802;896;3428;4027;7325;3958;71...   \n",
       "3   green rubber flooring  1452;4078;4013;833;4116;3697;7845;3307;3946;39...   \n",
       "4    green honeycomb tile  4763;3205;3701;1557;3623;85;3208;3584;4761;121...   \n",
       "\n",
       "  Filename    Unique Entry ID  \n",
       "0    brd06  B3RyfNEqwGmcccRC3  \n",
       "1    squ05  SGMdki6dzpDZyXAw5  \n",
       "2    pig17  jzWCiDPm9MqtCfecP  \n",
       "3    gor08  LBifxETQJGEaLhBjC  \n",
       "4    crd00  REpd8KxB8p9aGBRSE  "
      ]
     },
     "metadata": {},
     "output_type": "display_data"
    },
    {
     "name": "stdout",
     "output_type": "stream",
     "text": [
      "<class 'pandas.core.frame.DataFrame'>\n",
      "RangeIndex: 391 entries, 0 to 390\n",
      "Data columns (total 17 columns):\n",
      " #   Column           Non-Null Count  Dtype \n",
      "---  ------           --------------  ----- \n",
      " 0   Name             391 non-null    object\n",
      " 1   Species          391 non-null    object\n",
      " 2   Gender           391 non-null    object\n",
      " 3   Personality      391 non-null    object\n",
      " 4   Hobby            391 non-null    object\n",
      " 5   Birthday         391 non-null    object\n",
      " 6   Catchphrase      391 non-null    object\n",
      " 7   Favorite Song    391 non-null    object\n",
      " 8   Style 1          391 non-null    object\n",
      " 9   Style 2          391 non-null    object\n",
      " 10  Color 1          391 non-null    object\n",
      " 11  Color 2          391 non-null    object\n",
      " 12  Wallpaper        391 non-null    object\n",
      " 13  Flooring         391 non-null    object\n",
      " 14  Furniture List   391 non-null    object\n",
      " 15  Filename         391 non-null    object\n",
      " 16  Unique Entry ID  391 non-null    object\n",
      "dtypes: object(17)\n",
      "memory usage: 52.1+ KB\n"
     ]
    }
   ],
   "source": [
    "data_path = '../data/acnh-data/villagers.csv'\n",
    "df = pd.read_csv(data_path)\n",
    "print('Shape:', df.shape)\n",
    "display(df.head())\n",
    "df.info()"
   ]
  },
  {
   "cell_type": "markdown",
   "id": "35cdd5a4",
   "metadata": {},
   "source": [
    "## Basic cleaning & type normalization\n",
    "Trim whitespace, make `Species` and `Personality` categorical, and check missing values. Create a small subset for fast iteration if desired."
   ]
  },
  {
   "cell_type": "code",
   "execution_count": 34,
   "id": "122da998",
   "metadata": {},
   "outputs": [
    {
     "name": "stdout",
     "output_type": "stream",
     "text": [
      "Missing values: Species        0\n",
      "Personality    0\n",
      "dtype: int64\n"
     ]
    },
    {
     "data": {
      "text/plain": [
       "(391, 17)"
      ]
     },
     "execution_count": 34,
     "metadata": {},
     "output_type": "execute_result"
    }
   ],
   "source": [
    "# Strip whitespace from column names and string values\n",
    "df.columns = df.columns.str.strip()\n",
    "for c in ['Species', 'Personality']:\n",
    "    if c in df.columns:\n",
    "        df[c] = df[c].astype(str).str.strip()\n",
    "# Convert to categorical\n",
    "df['Species'] = df['Species'].astype('category')\n",
    "df['Personality'] = df['Personality'].astype('category')\n",
    "# Missing values\n",
    "missing = df[['Species', 'Personality']].isna().sum()\n",
    "print('Missing values:', missing)\n",
    "# Use a working copy for fast iteration (full df by default)\n",
    "df_work = df.copy()\n",
    "df_work.shape"
   ]
  }
 ],
 "metadata": {
  "kernelspec": {
   "display_name": "venv (3.12.11)",
   "language": "python",
   "name": "python3"
  },
  "language_info": {
   "codemirror_mode": {
    "name": "ipython",
    "version": 3
   },
   "file_extension": ".py",
   "mimetype": "text/x-python",
   "name": "python",
   "nbconvert_exporter": "python",
   "pygments_lexer": "ipython3",
   "version": "3.12.11"
  }
 },
 "nbformat": 4,
 "nbformat_minor": 5
}
