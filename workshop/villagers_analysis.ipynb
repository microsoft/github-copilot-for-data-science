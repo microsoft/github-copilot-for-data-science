{
 "cells": [
  {
   "cell_type": "markdown",
   "id": "4e2fb049",
   "metadata": {},
   "source": [
    "# ACNH Villagers\n",
    "This notebook loads the villager dataset and cleans some of the loaded data."
   ]
  },
  {
   "cell_type": "code",
   "execution_count": null,
   "id": "556b332c",
   "metadata": {},
   "outputs": [],
   "source": [
    "# If you need to install packages in this environment, uncomment and run:\n",
    "# !pip install pandas numpy matplotlib seaborn scikit-learn scipy -q"
   ]
  },
  {
   "cell_type": "code",
   "execution_count": null,
   "id": "75422116",
   "metadata": {},
   "outputs": [],
   "source": [
    "# Imports\n",
    "import json\n",
    "import os\n",
    "import numpy as np\n",
    "import pandas as pd\n",
    "import matplotlib.pyplot as plt\n",
    "import seaborn as sns\n",
    "from sklearn.preprocessing import LabelEncoder\n",
    "from sklearn.feature_selection import mutual_info_classif\n",
    "from sklearn.model_selection import StratifiedKFold, cross_val_score, cross_val_predict\n",
    "from sklearn.ensemble import RandomForestClassifier\n",
    "from sklearn.linear_model import LogisticRegression\n",
    "from sklearn.metrics import classification_report, confusion_matrix\n",
    "from scipy.stats import chi2_contingency\n",
    "%matplotlib inline"
   ]
  },
  {
   "cell_type": "markdown",
   "id": "1dd4989c",
   "metadata": {},
   "source": [
    "## Load data\n",
    "Read the CSV and show basic info."
   ]
  },
  {
   "cell_type": "code",
   "execution_count": null,
   "id": "21d016cd",
   "metadata": {},
   "outputs": [],
   "source": [
    "data_path = '../data/acnh-data/villagers.csv'\n",
    "df = pd.read_csv(data_path)\n",
    "print('Shape:', df.shape)\n",
    "display(df.head())\n",
    "df.info()"
   ]
  },
  {
   "cell_type": "markdown",
   "id": "35cdd5a4",
   "metadata": {},
   "source": [
    "## Basic cleaning & type normalization\n",
    "Trim whitespace, make `Species` and `Personality` categorical, and check missing values. Create a small subset for fast iteration if desired."
   ]
  },
  {
   "cell_type": "code",
   "execution_count": null,
   "id": "122da998",
   "metadata": {},
   "outputs": [],
   "source": [
    "# Strip whitespace from column names and string values\n",
    "df.columns = df.columns.str.strip()\n",
    "for c in ['Species', 'Personality']:\n",
    "    if c in df.columns:\n",
    "        df[c] = df[c].astype(str).str.strip()\n",
    "# Convert to categorical\n",
    "df['Species'] = df['Species'].astype('category')\n",
    "df['Personality'] = df['Personality'].astype('category')\n",
    "# Missing values\n",
    "missing = df[['Species', 'Personality']].isna().sum()\n",
    "print('Missing values:', missing)\n",
    "# Use a working copy for fast iteration (full df by default)\n",
    "df_work = df.copy()\n",
    "df_work.shape"
   ]
  }
 ],
 "metadata": {
  "kernelspec": {
   "display_name": "venv (3.12.11)",
   "language": "python",
   "name": "python3"
  },
  "language_info": {
   "codemirror_mode": {
    "name": "ipython",
    "version": 3
   },
   "file_extension": ".py",
   "mimetype": "text/x-python",
   "name": "python",
   "nbconvert_exporter": "python",
   "pygments_lexer": "ipython3",
   "version": "3.12.11"
  }
 },
 "nbformat": 4,
 "nbformat_minor": 5
}
