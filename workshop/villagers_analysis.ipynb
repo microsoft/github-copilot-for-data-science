{
 "cells": [
  {
   "cell_type": "markdown",
   "id": "4e2fb049",
   "metadata": {},
   "source": [
    "# ACNH Villagers: Species vs Personality\n",
    "This notebook loads the villager dataset and analyzes the relationship between `Species` and `Personality`.\n",
    "We'll compute association measures (chi-square / Cramér's V), mutual information, and train simple baseline classifiers to predict personality from species."
   ]
  },
  {
   "cell_type": "code",
   "execution_count": 1,
   "id": "556b332c",
   "metadata": {},
   "outputs": [],
   "source": [
    "# If you need to install packages in this environment, uncomment and run:\n",
    "# !pip install pandas numpy matplotlib seaborn scikit-learn scipy -q"
   ]
  },
  {
   "cell_type": "code",
   "execution_count": 2,
   "id": "75422116",
   "metadata": {},
   "outputs": [],
   "source": [
    "# Imports\n",
    "import json\n",
    "import os\n",
    "import numpy as np\n",
    "import pandas as pd\n",
    "import matplotlib.pyplot as plt\n",
    "import seaborn as sns\n",
    "from sklearn.preprocessing import LabelEncoder\n",
    "from sklearn.feature_selection import mutual_info_classif\n",
    "from sklearn.model_selection import StratifiedKFold, cross_val_score, cross_val_predict\n",
    "from sklearn.ensemble import RandomForestClassifier\n",
    "from sklearn.linear_model import LogisticRegression\n",
    "from sklearn.metrics import classification_report, confusion_matrix\n",
    "from scipy.stats import chi2_contingency\n",
    "%matplotlib inline"
   ]
  },
  {
   "cell_type": "markdown",
   "id": "1dd4989c",
   "metadata": {},
   "source": [
    "## Load data\n",
    "Read the CSV and show basic info."
   ]
  },
  {
   "cell_type": "code",
   "execution_count": 3,
   "id": "21d016cd",
   "metadata": {},
   "outputs": [
    {
     "name": "stdout",
     "output_type": "stream",
     "text": [
      "Shape: (391, 17)\n"
     ]
    },
    {
     "data": {
      "application/vnd.microsoft.datawrangler.viewer.v0+json": {
       "columns": [
        {
         "name": "index",
         "rawType": "int64",
         "type": "integer"
        },
        {
         "name": "Name",
         "rawType": "object",
         "type": "string"
        },
        {
         "name": "Species",
         "rawType": "object",
         "type": "string"
        },
        {
         "name": "Gender",
         "rawType": "object",
         "type": "string"
        },
        {
         "name": "Personality",
         "rawType": "object",
         "type": "string"
        },
        {
         "name": "Hobby",
         "rawType": "object",
         "type": "string"
        },
        {
         "name": "Birthday",
         "rawType": "object",
         "type": "string"
        },
        {
         "name": "Catchphrase",
         "rawType": "object",
         "type": "string"
        },
        {
         "name": "Favorite Song",
         "rawType": "object",
         "type": "string"
        },
        {
         "name": "Style 1",
         "rawType": "object",
         "type": "string"
        },
        {
         "name": "Style 2",
         "rawType": "object",
         "type": "string"
        },
        {
         "name": "Color 1",
         "rawType": "object",
         "type": "string"
        },
        {
         "name": "Color 2",
         "rawType": "object",
         "type": "string"
        },
        {
         "name": "Wallpaper",
         "rawType": "object",
         "type": "string"
        },
        {
         "name": "Flooring",
         "rawType": "object",
         "type": "string"
        },
        {
         "name": "Furniture List",
         "rawType": "object",
         "type": "string"
        },
        {
         "name": "Filename",
         "rawType": "object",
         "type": "string"
        },
        {
         "name": "Unique Entry ID",
         "rawType": "object",
         "type": "string"
        }
       ],
       "ref": "29f72d02-b0af-4e7d-b125-84281fbd25ee",
       "rows": [
        [
         "0",
         "Admiral",
         "Bird",
         "Male",
         "Cranky",
         "Nature",
         "27-Jan",
         "aye aye",
         "Steep Hill",
         "Cool",
         "Cool",
         "Black",
         "Blue",
         "dirt-clod wall",
         "tatami",
         "717;1849;7047;2736;787;5970;3449;3622;3802;4106;3438;4029",
         "brd06",
         "B3RyfNEqwGmcccRC3"
        ],
        [
         "1",
         "Agent S",
         "Squirrel",
         "Female",
         "Peppy",
         "Fitness",
         "2-Jul",
         "sidekick",
         "Go K.K. Rider",
         "Active",
         "Simple",
         "Blue",
         "Black",
         "concrete wall",
         "colorful tile flooring",
         "7845;7150;3468;4080;290;3971;3449;1708;4756;2560;4753;7323;7789",
         "squ05",
         "SGMdki6dzpDZyXAw5"
        ],
        [
         "2",
         "Agnes",
         "Pig",
         "Female",
         "Big Sister",
         "Play",
         "21-Apr",
         "snuffle",
         "K.K. House",
         "Simple",
         "Elegant",
         "Pink",
         "White",
         "gray molded-panel wall",
         "arabesque flooring",
         "4129;7236;7235;7802;896;3428;4027;7325;3958;7136;3951;3773;7801",
         "pig17",
         "jzWCiDPm9MqtCfecP"
        ],
        [
         "3",
         "Al",
         "Gorilla",
         "Male",
         "Lazy",
         "Fitness",
         "18-Oct",
         "ayyyeee",
         "Go K.K. Rider",
         "Active",
         "Active",
         "Red",
         "White",
         "concrete wall",
         "green rubber flooring",
         "1452;4078;4013;833;4116;3697;7845;3307;3946;3960;7800",
         "gor08",
         "LBifxETQJGEaLhBjC"
        ],
        [
         "4",
         "Alfonso",
         "Alligator",
         "Male",
         "Lazy",
         "Play",
         "9-Jun",
         "it'sa me",
         "Forest Life",
         "Simple",
         "Simple",
         "Red",
         "Blue",
         "yellow playroom wall",
         "green honeycomb tile",
         "4763;3205;3701;1557;3623;85;3208;3584;4761;1217;3702",
         "crd00",
         "REpd8KxB8p9aGBRSE"
        ]
       ],
       "shape": {
        "columns": 17,
        "rows": 5
       }
      },
      "text/html": [
       "<div>\n",
       "<style scoped>\n",
       "    .dataframe tbody tr th:only-of-type {\n",
       "        vertical-align: middle;\n",
       "    }\n",
       "\n",
       "    .dataframe tbody tr th {\n",
       "        vertical-align: top;\n",
       "    }\n",
       "\n",
       "    .dataframe thead th {\n",
       "        text-align: right;\n",
       "    }\n",
       "</style>\n",
       "<table border=\"1\" class=\"dataframe\">\n",
       "  <thead>\n",
       "    <tr style=\"text-align: right;\">\n",
       "      <th></th>\n",
       "      <th>Name</th>\n",
       "      <th>Species</th>\n",
       "      <th>Gender</th>\n",
       "      <th>Personality</th>\n",
       "      <th>Hobby</th>\n",
       "      <th>Birthday</th>\n",
       "      <th>Catchphrase</th>\n",
       "      <th>Favorite Song</th>\n",
       "      <th>Style 1</th>\n",
       "      <th>Style 2</th>\n",
       "      <th>Color 1</th>\n",
       "      <th>Color 2</th>\n",
       "      <th>Wallpaper</th>\n",
       "      <th>Flooring</th>\n",
       "      <th>Furniture List</th>\n",
       "      <th>Filename</th>\n",
       "      <th>Unique Entry ID</th>\n",
       "    </tr>\n",
       "  </thead>\n",
       "  <tbody>\n",
       "    <tr>\n",
       "      <th>0</th>\n",
       "      <td>Admiral</td>\n",
       "      <td>Bird</td>\n",
       "      <td>Male</td>\n",
       "      <td>Cranky</td>\n",
       "      <td>Nature</td>\n",
       "      <td>27-Jan</td>\n",
       "      <td>aye aye</td>\n",
       "      <td>Steep Hill</td>\n",
       "      <td>Cool</td>\n",
       "      <td>Cool</td>\n",
       "      <td>Black</td>\n",
       "      <td>Blue</td>\n",
       "      <td>dirt-clod wall</td>\n",
       "      <td>tatami</td>\n",
       "      <td>717;1849;7047;2736;787;5970;3449;3622;3802;410...</td>\n",
       "      <td>brd06</td>\n",
       "      <td>B3RyfNEqwGmcccRC3</td>\n",
       "    </tr>\n",
       "    <tr>\n",
       "      <th>1</th>\n",
       "      <td>Agent S</td>\n",
       "      <td>Squirrel</td>\n",
       "      <td>Female</td>\n",
       "      <td>Peppy</td>\n",
       "      <td>Fitness</td>\n",
       "      <td>2-Jul</td>\n",
       "      <td>sidekick</td>\n",
       "      <td>Go K.K. Rider</td>\n",
       "      <td>Active</td>\n",
       "      <td>Simple</td>\n",
       "      <td>Blue</td>\n",
       "      <td>Black</td>\n",
       "      <td>concrete wall</td>\n",
       "      <td>colorful tile flooring</td>\n",
       "      <td>7845;7150;3468;4080;290;3971;3449;1708;4756;25...</td>\n",
       "      <td>squ05</td>\n",
       "      <td>SGMdki6dzpDZyXAw5</td>\n",
       "    </tr>\n",
       "    <tr>\n",
       "      <th>2</th>\n",
       "      <td>Agnes</td>\n",
       "      <td>Pig</td>\n",
       "      <td>Female</td>\n",
       "      <td>Big Sister</td>\n",
       "      <td>Play</td>\n",
       "      <td>21-Apr</td>\n",
       "      <td>snuffle</td>\n",
       "      <td>K.K. House</td>\n",
       "      <td>Simple</td>\n",
       "      <td>Elegant</td>\n",
       "      <td>Pink</td>\n",
       "      <td>White</td>\n",
       "      <td>gray molded-panel wall</td>\n",
       "      <td>arabesque flooring</td>\n",
       "      <td>4129;7236;7235;7802;896;3428;4027;7325;3958;71...</td>\n",
       "      <td>pig17</td>\n",
       "      <td>jzWCiDPm9MqtCfecP</td>\n",
       "    </tr>\n",
       "    <tr>\n",
       "      <th>3</th>\n",
       "      <td>Al</td>\n",
       "      <td>Gorilla</td>\n",
       "      <td>Male</td>\n",
       "      <td>Lazy</td>\n",
       "      <td>Fitness</td>\n",
       "      <td>18-Oct</td>\n",
       "      <td>ayyyeee</td>\n",
       "      <td>Go K.K. Rider</td>\n",
       "      <td>Active</td>\n",
       "      <td>Active</td>\n",
       "      <td>Red</td>\n",
       "      <td>White</td>\n",
       "      <td>concrete wall</td>\n",
       "      <td>green rubber flooring</td>\n",
       "      <td>1452;4078;4013;833;4116;3697;7845;3307;3946;39...</td>\n",
       "      <td>gor08</td>\n",
       "      <td>LBifxETQJGEaLhBjC</td>\n",
       "    </tr>\n",
       "    <tr>\n",
       "      <th>4</th>\n",
       "      <td>Alfonso</td>\n",
       "      <td>Alligator</td>\n",
       "      <td>Male</td>\n",
       "      <td>Lazy</td>\n",
       "      <td>Play</td>\n",
       "      <td>9-Jun</td>\n",
       "      <td>it'sa me</td>\n",
       "      <td>Forest Life</td>\n",
       "      <td>Simple</td>\n",
       "      <td>Simple</td>\n",
       "      <td>Red</td>\n",
       "      <td>Blue</td>\n",
       "      <td>yellow playroom wall</td>\n",
       "      <td>green honeycomb tile</td>\n",
       "      <td>4763;3205;3701;1557;3623;85;3208;3584;4761;121...</td>\n",
       "      <td>crd00</td>\n",
       "      <td>REpd8KxB8p9aGBRSE</td>\n",
       "    </tr>\n",
       "  </tbody>\n",
       "</table>\n",
       "</div>"
      ],
      "text/plain": [
       "      Name    Species  Gender Personality    Hobby Birthday Catchphrase  \\\n",
       "0  Admiral       Bird    Male      Cranky   Nature   27-Jan     aye aye   \n",
       "1  Agent S   Squirrel  Female       Peppy  Fitness    2-Jul    sidekick   \n",
       "2    Agnes        Pig  Female  Big Sister     Play   21-Apr     snuffle   \n",
       "3       Al    Gorilla    Male        Lazy  Fitness   18-Oct     ayyyeee   \n",
       "4  Alfonso  Alligator    Male        Lazy     Play    9-Jun    it'sa me   \n",
       "\n",
       "   Favorite Song Style 1  Style 2 Color 1 Color 2               Wallpaper  \\\n",
       "0     Steep Hill    Cool     Cool   Black    Blue          dirt-clod wall   \n",
       "1  Go K.K. Rider  Active   Simple    Blue   Black           concrete wall   \n",
       "2     K.K. House  Simple  Elegant    Pink   White  gray molded-panel wall   \n",
       "3  Go K.K. Rider  Active   Active     Red   White           concrete wall   \n",
       "4    Forest Life  Simple   Simple     Red    Blue    yellow playroom wall   \n",
       "\n",
       "                 Flooring                                     Furniture List  \\\n",
       "0                  tatami  717;1849;7047;2736;787;5970;3449;3622;3802;410...   \n",
       "1  colorful tile flooring  7845;7150;3468;4080;290;3971;3449;1708;4756;25...   \n",
       "2      arabesque flooring  4129;7236;7235;7802;896;3428;4027;7325;3958;71...   \n",
       "3   green rubber flooring  1452;4078;4013;833;4116;3697;7845;3307;3946;39...   \n",
       "4    green honeycomb tile  4763;3205;3701;1557;3623;85;3208;3584;4761;121...   \n",
       "\n",
       "  Filename    Unique Entry ID  \n",
       "0    brd06  B3RyfNEqwGmcccRC3  \n",
       "1    squ05  SGMdki6dzpDZyXAw5  \n",
       "2    pig17  jzWCiDPm9MqtCfecP  \n",
       "3    gor08  LBifxETQJGEaLhBjC  \n",
       "4    crd00  REpd8KxB8p9aGBRSE  "
      ]
     },
     "metadata": {},
     "output_type": "display_data"
    },
    {
     "name": "stdout",
     "output_type": "stream",
     "text": [
      "<class 'pandas.core.frame.DataFrame'>\n",
      "RangeIndex: 391 entries, 0 to 390\n",
      "Data columns (total 17 columns):\n",
      " #   Column           Non-Null Count  Dtype \n",
      "---  ------           --------------  ----- \n",
      " 0   Name             391 non-null    object\n",
      " 1   Species          391 non-null    object\n",
      " 2   Gender           391 non-null    object\n",
      " 3   Personality      391 non-null    object\n",
      " 4   Hobby            391 non-null    object\n",
      " 5   Birthday         391 non-null    object\n",
      " 6   Catchphrase      391 non-null    object\n",
      " 7   Favorite Song    391 non-null    object\n",
      " 8   Style 1          391 non-null    object\n",
      " 9   Style 2          391 non-null    object\n",
      " 10  Color 1          391 non-null    object\n",
      " 11  Color 2          391 non-null    object\n",
      " 12  Wallpaper        391 non-null    object\n",
      " 13  Flooring         391 non-null    object\n",
      " 14  Furniture List   391 non-null    object\n",
      " 15  Filename         391 non-null    object\n",
      " 16  Unique Entry ID  391 non-null    object\n",
      "dtypes: object(17)\n",
      "memory usage: 52.1+ KB\n"
     ]
    }
   ],
   "source": [
    "data_path = '../data/acnh-data/villagers.csv'\n",
    "df = pd.read_csv(data_path)\n",
    "print('Shape:', df.shape)\n",
    "display(df.head())\n",
    "df.info()"
   ]
  },
  {
   "cell_type": "markdown",
   "id": "35cdd5a4",
   "metadata": {},
   "source": [
    "## Basic cleaning & type normalization\n",
    "Trim whitespace, make `Species` and `Personality` categorical, and check missing values. Create a small subset for fast iteration if desired."
   ]
  },
  {
   "cell_type": "code",
   "execution_count": 4,
   "id": "122da998",
   "metadata": {},
   "outputs": [
    {
     "name": "stdout",
     "output_type": "stream",
     "text": [
      "Missing values: Species        0\n",
      "Personality    0\n",
      "dtype: int64\n"
     ]
    },
    {
     "data": {
      "text/plain": [
       "(391, 17)"
      ]
     },
     "execution_count": 4,
     "metadata": {},
     "output_type": "execute_result"
    }
   ],
   "source": [
    "# Strip whitespace from column names and string values\n",
    "df.columns = df.columns.str.strip()\n",
    "for c in ['Species', 'Personality']:\n",
    "    if c in df.columns:\n",
    "        df[c] = df[c].astype(str).str.strip()\n",
    "# Convert to categorical\n",
    "df['Species'] = df['Species'].astype('category')\n",
    "df['Personality'] = df['Personality'].astype('category')\n",
    "# Missing values\n",
    "missing = df[['Species', 'Personality']].isna().sum()\n",
    "print('Missing values:', missing)\n",
    "# Use a working copy for fast iteration (full df by default)\n",
    "df_work = df.copy()\n",
    "df_work.shape"
   ]
  },
  {
   "cell_type": "markdown",
   "id": "e143b45c",
   "metadata": {},
   "source": [
    "## Quick exploratory stats\n",
    "Value counts and contingency table for Species x Personality."
   ]
  },
  {
   "cell_type": "code",
   "execution_count": 5,
   "id": "4b0ba6b1",
   "metadata": {},
   "outputs": [
    {
     "name": "stdout",
     "output_type": "stream",
     "text": [
      "Top species: Species\n",
      "Cat         23\n",
      "Rabbit      20\n",
      "Squirrel    18\n",
      "Frog        18\n",
      "Duck        17\n",
      "Name: count, dtype: int64\n",
      "Personality distribution: Personality\n",
      "Lazy          60\n",
      "Normal        59\n",
      "Jock          55\n",
      "Cranky        55\n",
      "Snooty        55\n",
      "Peppy         49\n",
      "Smug          34\n",
      "Big Sister    24\n",
      "Name: count, dtype: int64\n"
     ]
    },
    {
     "data": {
      "application/vnd.microsoft.datawrangler.viewer.v0+json": {
       "columns": [
        {
         "name": "Species",
         "rawType": "category",
         "type": "unknown"
        },
        {
         "name": "Big Sister",
         "rawType": "int64",
         "type": "integer"
        },
        {
         "name": "Cranky",
         "rawType": "int64",
         "type": "integer"
        },
        {
         "name": "Jock",
         "rawType": "int64",
         "type": "integer"
        },
        {
         "name": "Lazy",
         "rawType": "int64",
         "type": "integer"
        },
        {
         "name": "Normal",
         "rawType": "int64",
         "type": "integer"
        },
        {
         "name": "Peppy",
         "rawType": "int64",
         "type": "integer"
        },
        {
         "name": "Smug",
         "rawType": "int64",
         "type": "integer"
        },
        {
         "name": "Snooty",
         "rawType": "int64",
         "type": "integer"
        }
       ],
       "ref": "5a26ef14-8667-46ea-96b5-afb472b0dbd6",
       "rows": [
        [
         "Alligator",
         "0",
         "1",
         "2",
         "2",
         "1",
         "0",
         "0",
         "1"
        ],
        [
         "Anteater",
         "0",
         "1",
         "1",
         "0",
         "1",
         "2",
         "1",
         "1"
        ],
        [
         "Bear",
         "3",
         "5",
         "1",
         "1",
         "1",
         "2",
         "2",
         "0"
        ],
        [
         "Bird",
         "0",
         "1",
         "4",
         "2",
         "1",
         "2",
         "2",
         "1"
        ],
        [
         "Bull",
         "0",
         "3",
         "1",
         "2",
         "0",
         "0",
         "0",
         "0"
        ]
       ],
       "shape": {
        "columns": 8,
        "rows": 5
       }
      },
      "text/html": [
       "<div>\n",
       "<style scoped>\n",
       "    .dataframe tbody tr th:only-of-type {\n",
       "        vertical-align: middle;\n",
       "    }\n",
       "\n",
       "    .dataframe tbody tr th {\n",
       "        vertical-align: top;\n",
       "    }\n",
       "\n",
       "    .dataframe thead th {\n",
       "        text-align: right;\n",
       "    }\n",
       "</style>\n",
       "<table border=\"1\" class=\"dataframe\">\n",
       "  <thead>\n",
       "    <tr style=\"text-align: right;\">\n",
       "      <th>Personality</th>\n",
       "      <th>Big Sister</th>\n",
       "      <th>Cranky</th>\n",
       "      <th>Jock</th>\n",
       "      <th>Lazy</th>\n",
       "      <th>Normal</th>\n",
       "      <th>Peppy</th>\n",
       "      <th>Smug</th>\n",
       "      <th>Snooty</th>\n",
       "    </tr>\n",
       "    <tr>\n",
       "      <th>Species</th>\n",
       "      <th></th>\n",
       "      <th></th>\n",
       "      <th></th>\n",
       "      <th></th>\n",
       "      <th></th>\n",
       "      <th></th>\n",
       "      <th></th>\n",
       "      <th></th>\n",
       "    </tr>\n",
       "  </thead>\n",
       "  <tbody>\n",
       "    <tr>\n",
       "      <th>Alligator</th>\n",
       "      <td>0</td>\n",
       "      <td>1</td>\n",
       "      <td>2</td>\n",
       "      <td>2</td>\n",
       "      <td>1</td>\n",
       "      <td>0</td>\n",
       "      <td>0</td>\n",
       "      <td>1</td>\n",
       "    </tr>\n",
       "    <tr>\n",
       "      <th>Anteater</th>\n",
       "      <td>0</td>\n",
       "      <td>1</td>\n",
       "      <td>1</td>\n",
       "      <td>0</td>\n",
       "      <td>1</td>\n",
       "      <td>2</td>\n",
       "      <td>1</td>\n",
       "      <td>1</td>\n",
       "    </tr>\n",
       "    <tr>\n",
       "      <th>Bear</th>\n",
       "      <td>3</td>\n",
       "      <td>5</td>\n",
       "      <td>1</td>\n",
       "      <td>1</td>\n",
       "      <td>1</td>\n",
       "      <td>2</td>\n",
       "      <td>2</td>\n",
       "      <td>0</td>\n",
       "    </tr>\n",
       "    <tr>\n",
       "      <th>Bird</th>\n",
       "      <td>0</td>\n",
       "      <td>1</td>\n",
       "      <td>4</td>\n",
       "      <td>2</td>\n",
       "      <td>1</td>\n",
       "      <td>2</td>\n",
       "      <td>2</td>\n",
       "      <td>1</td>\n",
       "    </tr>\n",
       "    <tr>\n",
       "      <th>Bull</th>\n",
       "      <td>0</td>\n",
       "      <td>3</td>\n",
       "      <td>1</td>\n",
       "      <td>2</td>\n",
       "      <td>0</td>\n",
       "      <td>0</td>\n",
       "      <td>0</td>\n",
       "      <td>0</td>\n",
       "    </tr>\n",
       "  </tbody>\n",
       "</table>\n",
       "</div>"
      ],
      "text/plain": [
       "Personality  Big Sister  Cranky  Jock  Lazy  Normal  Peppy  Smug  Snooty\n",
       "Species                                                                 \n",
       "Alligator             0       1     2     2       1      0     0       1\n",
       "Anteater              0       1     1     0       1      2     1       1\n",
       "Bear                  3       5     1     1       1      2     2       0\n",
       "Bird                  0       1     4     2       1      2     2       1\n",
       "Bull                  0       3     1     2       0      0     0       0"
      ]
     },
     "metadata": {},
     "output_type": "display_data"
    },
    {
     "data": {
      "application/vnd.microsoft.datawrangler.viewer.v0+json": {
       "columns": [
        {
         "name": "Species",
         "rawType": "category",
         "type": "unknown"
        },
        {
         "name": "Big Sister",
         "rawType": "float64",
         "type": "float"
        },
        {
         "name": "Cranky",
         "rawType": "float64",
         "type": "float"
        },
        {
         "name": "Jock",
         "rawType": "float64",
         "type": "float"
        },
        {
         "name": "Lazy",
         "rawType": "float64",
         "type": "float"
        },
        {
         "name": "Normal",
         "rawType": "float64",
         "type": "float"
        },
        {
         "name": "Peppy",
         "rawType": "float64",
         "type": "float"
        },
        {
         "name": "Smug",
         "rawType": "float64",
         "type": "float"
        },
        {
         "name": "Snooty",
         "rawType": "float64",
         "type": "float"
        }
       ],
       "ref": "e3641e1e-fc57-4f64-a611-e5dce2b699d7",
       "rows": [
        [
         "Alligator",
         "0.0",
         "0.14285714285714285",
         "0.2857142857142857",
         "0.2857142857142857",
         "0.14285714285714285",
         "0.0",
         "0.0",
         "0.14285714285714285"
        ],
        [
         "Anteater",
         "0.0",
         "0.14285714285714285",
         "0.14285714285714285",
         "0.0",
         "0.14285714285714285",
         "0.2857142857142857",
         "0.14285714285714285",
         "0.14285714285714285"
        ],
        [
         "Bear",
         "0.2",
         "0.3333333333333333",
         "0.06666666666666667",
         "0.06666666666666667",
         "0.06666666666666667",
         "0.13333333333333333",
         "0.13333333333333333",
         "0.0"
        ],
        [
         "Bird",
         "0.0",
         "0.07692307692307693",
         "0.3076923076923077",
         "0.15384615384615385",
         "0.07692307692307693",
         "0.15384615384615385",
         "0.15384615384615385",
         "0.07692307692307693"
        ],
        [
         "Bull",
         "0.0",
         "0.5",
         "0.16666666666666666",
         "0.3333333333333333",
         "0.0",
         "0.0",
         "0.0",
         "0.0"
        ],
        [
         "Cat",
         "0.043478260869565216",
         "0.08695652173913043",
         "0.13043478260869565",
         "0.13043478260869565",
         "0.13043478260869565",
         "0.21739130434782608",
         "0.043478260869565216",
         "0.21739130434782608"
        ],
        [
         "Chicken",
         "0.1111111111111111",
         "0.1111111111111111",
         "0.1111111111111111",
         "0.2222222222222222",
         "0.1111111111111111",
         "0.0",
         "0.1111111111111111",
         "0.2222222222222222"
        ],
        [
         "Cow",
         "0.0",
         "0.0",
         "0.0",
         "0.0",
         "0.25",
         "0.25",
         "0.0",
         "0.5"
        ],
        [
         "Cub",
         "0.0625",
         "0.125",
         "0.125",
         "0.25",
         "0.25",
         "0.125",
         "0.0",
         "0.0625"
        ],
        [
         "Deer",
         "0.2",
         "0.1",
         "0.1",
         "0.2",
         "0.1",
         "0.0",
         "0.2",
         "0.1"
        ]
       ],
       "shape": {
        "columns": 8,
        "rows": 10
       }
      },
      "text/html": [
       "<div>\n",
       "<style scoped>\n",
       "    .dataframe tbody tr th:only-of-type {\n",
       "        vertical-align: middle;\n",
       "    }\n",
       "\n",
       "    .dataframe tbody tr th {\n",
       "        vertical-align: top;\n",
       "    }\n",
       "\n",
       "    .dataframe thead th {\n",
       "        text-align: right;\n",
       "    }\n",
       "</style>\n",
       "<table border=\"1\" class=\"dataframe\">\n",
       "  <thead>\n",
       "    <tr style=\"text-align: right;\">\n",
       "      <th>Personality</th>\n",
       "      <th>Big Sister</th>\n",
       "      <th>Cranky</th>\n",
       "      <th>Jock</th>\n",
       "      <th>Lazy</th>\n",
       "      <th>Normal</th>\n",
       "      <th>Peppy</th>\n",
       "      <th>Smug</th>\n",
       "      <th>Snooty</th>\n",
       "    </tr>\n",
       "    <tr>\n",
       "      <th>Species</th>\n",
       "      <th></th>\n",
       "      <th></th>\n",
       "      <th></th>\n",
       "      <th></th>\n",
       "      <th></th>\n",
       "      <th></th>\n",
       "      <th></th>\n",
       "      <th></th>\n",
       "    </tr>\n",
       "  </thead>\n",
       "  <tbody>\n",
       "    <tr>\n",
       "      <th>Alligator</th>\n",
       "      <td>0.000000</td>\n",
       "      <td>0.142857</td>\n",
       "      <td>0.285714</td>\n",
       "      <td>0.285714</td>\n",
       "      <td>0.142857</td>\n",
       "      <td>0.000000</td>\n",
       "      <td>0.000000</td>\n",
       "      <td>0.142857</td>\n",
       "    </tr>\n",
       "    <tr>\n",
       "      <th>Anteater</th>\n",
       "      <td>0.000000</td>\n",
       "      <td>0.142857</td>\n",
       "      <td>0.142857</td>\n",
       "      <td>0.000000</td>\n",
       "      <td>0.142857</td>\n",
       "      <td>0.285714</td>\n",
       "      <td>0.142857</td>\n",
       "      <td>0.142857</td>\n",
       "    </tr>\n",
       "    <tr>\n",
       "      <th>Bear</th>\n",
       "      <td>0.200000</td>\n",
       "      <td>0.333333</td>\n",
       "      <td>0.066667</td>\n",
       "      <td>0.066667</td>\n",
       "      <td>0.066667</td>\n",
       "      <td>0.133333</td>\n",
       "      <td>0.133333</td>\n",
       "      <td>0.000000</td>\n",
       "    </tr>\n",
       "    <tr>\n",
       "      <th>Bird</th>\n",
       "      <td>0.000000</td>\n",
       "      <td>0.076923</td>\n",
       "      <td>0.307692</td>\n",
       "      <td>0.153846</td>\n",
       "      <td>0.076923</td>\n",
       "      <td>0.153846</td>\n",
       "      <td>0.153846</td>\n",
       "      <td>0.076923</td>\n",
       "    </tr>\n",
       "    <tr>\n",
       "      <th>Bull</th>\n",
       "      <td>0.000000</td>\n",
       "      <td>0.500000</td>\n",
       "      <td>0.166667</td>\n",
       "      <td>0.333333</td>\n",
       "      <td>0.000000</td>\n",
       "      <td>0.000000</td>\n",
       "      <td>0.000000</td>\n",
       "      <td>0.000000</td>\n",
       "    </tr>\n",
       "    <tr>\n",
       "      <th>Cat</th>\n",
       "      <td>0.043478</td>\n",
       "      <td>0.086957</td>\n",
       "      <td>0.130435</td>\n",
       "      <td>0.130435</td>\n",
       "      <td>0.130435</td>\n",
       "      <td>0.217391</td>\n",
       "      <td>0.043478</td>\n",
       "      <td>0.217391</td>\n",
       "    </tr>\n",
       "    <tr>\n",
       "      <th>Chicken</th>\n",
       "      <td>0.111111</td>\n",
       "      <td>0.111111</td>\n",
       "      <td>0.111111</td>\n",
       "      <td>0.222222</td>\n",
       "      <td>0.111111</td>\n",
       "      <td>0.000000</td>\n",
       "      <td>0.111111</td>\n",
       "      <td>0.222222</td>\n",
       "    </tr>\n",
       "    <tr>\n",
       "      <th>Cow</th>\n",
       "      <td>0.000000</td>\n",
       "      <td>0.000000</td>\n",
       "      <td>0.000000</td>\n",
       "      <td>0.000000</td>\n",
       "      <td>0.250000</td>\n",
       "      <td>0.250000</td>\n",
       "      <td>0.000000</td>\n",
       "      <td>0.500000</td>\n",
       "    </tr>\n",
       "    <tr>\n",
       "      <th>Cub</th>\n",
       "      <td>0.062500</td>\n",
       "      <td>0.125000</td>\n",
       "      <td>0.125000</td>\n",
       "      <td>0.250000</td>\n",
       "      <td>0.250000</td>\n",
       "      <td>0.125000</td>\n",
       "      <td>0.000000</td>\n",
       "      <td>0.062500</td>\n",
       "    </tr>\n",
       "    <tr>\n",
       "      <th>Deer</th>\n",
       "      <td>0.200000</td>\n",
       "      <td>0.100000</td>\n",
       "      <td>0.100000</td>\n",
       "      <td>0.200000</td>\n",
       "      <td>0.100000</td>\n",
       "      <td>0.000000</td>\n",
       "      <td>0.200000</td>\n",
       "      <td>0.100000</td>\n",
       "    </tr>\n",
       "  </tbody>\n",
       "</table>\n",
       "</div>"
      ],
      "text/plain": [
       "Personality  Big Sister    Cranky      Jock      Lazy    Normal     Peppy  \\\n",
       "Species                                                                     \n",
       "Alligator      0.000000  0.142857  0.285714  0.285714  0.142857  0.000000   \n",
       "Anteater       0.000000  0.142857  0.142857  0.000000  0.142857  0.285714   \n",
       "Bear           0.200000  0.333333  0.066667  0.066667  0.066667  0.133333   \n",
       "Bird           0.000000  0.076923  0.307692  0.153846  0.076923  0.153846   \n",
       "Bull           0.000000  0.500000  0.166667  0.333333  0.000000  0.000000   \n",
       "Cat            0.043478  0.086957  0.130435  0.130435  0.130435  0.217391   \n",
       "Chicken        0.111111  0.111111  0.111111  0.222222  0.111111  0.000000   \n",
       "Cow            0.000000  0.000000  0.000000  0.000000  0.250000  0.250000   \n",
       "Cub            0.062500  0.125000  0.125000  0.250000  0.250000  0.125000   \n",
       "Deer           0.200000  0.100000  0.100000  0.200000  0.100000  0.000000   \n",
       "\n",
       "Personality      Smug    Snooty  \n",
       "Species                          \n",
       "Alligator    0.000000  0.142857  \n",
       "Anteater     0.142857  0.142857  \n",
       "Bear         0.133333  0.000000  \n",
       "Bird         0.153846  0.076923  \n",
       "Bull         0.000000  0.000000  \n",
       "Cat          0.043478  0.217391  \n",
       "Chicken      0.111111  0.222222  \n",
       "Cow          0.000000  0.500000  \n",
       "Cub          0.000000  0.062500  \n",
       "Deer         0.200000  0.100000  "
      ]
     },
     "metadata": {},
     "output_type": "display_data"
    }
   ],
   "source": [
    "print('Top species:', df_work['Species'].value_counts().head())\n",
    "print('Personality distribution:', df_work['Personality'].value_counts())\n",
    "ct = pd.crosstab(df_work['Species'], df_work['Personality'])\n",
    "display(ct.head())\n",
    "# Normalized views\n",
    "ct_norm_row = ct.div(ct.sum(axis=1), axis=0)\n",
    "display(ct_norm_row.iloc[:10, :10])"
   ]
  },
  {
   "cell_type": "markdown",
   "id": "91440730",
   "metadata": {},
   "source": [
    "## Chi-square and Cramér's V\n",
    "Run chi-square test of independence and compute Cramér's V as a measure of association between species and personality."
   ]
  },
  {
   "cell_type": "code",
   "execution_count": 6,
   "id": "d3af659a",
   "metadata": {},
   "outputs": [
    {
     "name": "stdout",
     "output_type": "stream",
     "text": [
      "Chi2=212.97, p=0.877, dof=238, Cramers V=0.279\n"
     ]
    }
   ],
   "source": [
    "chi2, p, dof, ex = chi2_contingency(ct)\n",
    "n = ct.values.sum()\n",
    "phi2 = chi2 / n\n",
    "r, k = ct.shape\n",
    "cramers_v = np.sqrt(phi2 / min(k - 1, r - 1))\n",
    "print(f'Chi2={chi2:.2f}, p={p:.3g}, dof={dof}, Cramers V={cramers_v:.3f}')"
   ]
  },
  {
   "cell_type": "markdown",
   "id": "4c511997",
   "metadata": {},
   "source": [
    "## Encode categorical variables for scikit-learn\n",
    "We'll encode `Species` as one-hot features and `Personality` as a label target for classification and mutual information."
   ]
  },
  {
   "cell_type": "code",
   "execution_count": 7,
   "id": "efeaac72",
   "metadata": {},
   "outputs": [
    {
     "name": "stdout",
     "output_type": "stream",
     "text": [
      "Species OHE shape: (391, 35)\n",
      "Personality classes: ['Big Sister', 'Cranky', 'Jock', 'Lazy', 'Normal', 'Peppy', 'Smug', 'Snooty']\n"
     ]
    }
   ],
   "source": [
    "# One-hot encode species\n",
    "species_ohe = pd.get_dummies(df_work['Species'], prefix='Species')\n",
    "print('Species OHE shape:', species_ohe.shape)\n",
    "# Encode personality as labels (target)\n",
    "le_personality = LabelEncoder()\n",
    "y = le_personality.fit_transform(df_work['Personality'].astype(str))\n",
    "print('Personality classes:', list(le_personality.classes_))\n",
    "X = species_ohe.values"
   ]
  },
  {
   "cell_type": "markdown",
   "id": "71991096",
   "metadata": {},
   "source": [
    "## Mutual information\n",
    "Compute mutual information between species one-hot features and personality target."
   ]
  },
  {
   "cell_type": "code",
   "execution_count": 8,
   "id": "35de62cb",
   "metadata": {},
   "outputs": [
    {
     "data": {
      "application/vnd.microsoft.datawrangler.viewer.v0+json": {
       "columns": [
        {
         "name": "index",
         "rawType": "object",
         "type": "string"
        },
        {
         "name": "0",
         "rawType": "float64",
         "type": "float"
        }
       ],
       "ref": "aaf646d8-3384-4b5a-b8f5-76b68183302e",
       "rows": [
        [
         "Species_Wolf",
         "0.01857509626300194"
        ],
        [
         "Species_Bear",
         "0.01714929015771541"
        ],
        [
         "Species_Rabbit",
         "0.01666824237762942"
        ],
        [
         "Species_Sheep",
         "0.016536775725576307"
        ],
        [
         "Species_Kangaroo",
         "0.014916883229155603"
        ],
        [
         "Species_Lion",
         "0.014739549767812127"
        ],
        [
         "Species_Bull",
         "0.01433690293794487"
        ],
        [
         "Species_Eagle",
         "0.013641055823926553"
        ],
        [
         "Species_Duck",
         "0.013313947281993152"
        ],
        [
         "Species_Tiger",
         "0.013047042069305164"
        ],
        [
         "Species_Elephant",
         "0.01273611231139505"
        ],
        [
         "Species_Gorilla",
         "0.009851671150511545"
        ],
        [
         "Species_Cow",
         "0.009634276819136464"
        ],
        [
         "Species_Dog",
         "0.00875412878868733"
        ],
        [
         "Species_Deer",
         "0.008208454123462891"
        ],
        [
         "Species_Rhino",
         "0.007779181646714952"
        ],
        [
         "Species_Squirrel",
         "0.007421470073608195"
        ],
        [
         "Species_Bird",
         "0.007413855884022429"
        ],
        [
         "Species_Cub",
         "0.007134974618048493"
        ],
        [
         "Species_Alligator",
         "0.006830978575220312"
        ]
       ],
       "shape": {
        "columns": 1,
        "rows": 20
       }
      },
      "text/plain": [
       "Species_Wolf         0.018575\n",
       "Species_Bear         0.017149\n",
       "Species_Rabbit       0.016668\n",
       "Species_Sheep        0.016537\n",
       "Species_Kangaroo     0.014917\n",
       "Species_Lion         0.014740\n",
       "Species_Bull         0.014337\n",
       "Species_Eagle        0.013641\n",
       "Species_Duck         0.013314\n",
       "Species_Tiger        0.013047\n",
       "Species_Elephant     0.012736\n",
       "Species_Gorilla      0.009852\n",
       "Species_Cow          0.009634\n",
       "Species_Dog          0.008754\n",
       "Species_Deer         0.008208\n",
       "Species_Rhino        0.007779\n",
       "Species_Squirrel     0.007421\n",
       "Species_Bird         0.007414\n",
       "Species_Cub          0.007135\n",
       "Species_Alligator    0.006831\n",
       "dtype: float64"
      ]
     },
     "metadata": {},
     "output_type": "display_data"
    },
    {
     "data": {
      "image/png": "[encoded data removed]",
      "text/plain": [
       "<Figure size 1000x600 with 1 Axes>"
      ]
     },
     "metadata": {},
     "output_type": "display_data"
    }
   ],
   "source": [
    "mi = mutual_info_classif(X, y, discrete_features=True, random_state=0)\n",
    "mi_series = pd.Series(mi, index=species_ohe.columns).sort_values(ascending=False)\n",
    "display(mi_series.head(20))\n",
    "plt.figure(figsize=(10,6))\n",
    "mi_series.head(30).plot.bar()\n",
    "plt.ylabel('Mutual Information with Personality')\n",
    "plt.tight_layout()\n",
    "plt.show()"
   ]
  },
  {
   "cell_type": "markdown",
   "id": "17641da5",
   "metadata": {},
   "source": [
    "## Baseline classifier: predict Personality from Species\n",
    "Train RandomForest and LogisticRegression baselines using species one-hot features and evaluate with stratified cross-validation."
   ]
  },
  {
   "cell_type": "code",
   "execution_count": 9,
   "id": "90032046",
   "metadata": {},
   "outputs": [
    {
     "name": "stdout",
     "output_type": "stream",
     "text": [
      "RandomForest accuracy (cv): 0.143 ± 0.025\n",
      "RandomForest balanced accuracy (cv): 0.127\n",
      "LogisticRegression accuracy (cv): 0.151\n"
     ]
    },
    {
     "name": "stderr",
     "output_type": "stream",
     "text": [
      "/home/vscode/venv/lib/python3.12/site-packages/sklearn/linear_model/_logistic.py:1272: FutureWarning: 'multi_class' was deprecated in version 1.5 and will be removed in 1.7. From then on, it will always use 'multinomial'. Leave it to its default value to avoid this warning.\n",
      "  warnings.warn(\n",
      "/home/vscode/venv/lib/python3.12/site-packages/sklearn/linear_model/_logistic.py:1272: FutureWarning: 'multi_class' was deprecated in version 1.5 and will be removed in 1.7. From then on, it will always use 'multinomial'. Leave it to its default value to avoid this warning.\n",
      "  warnings.warn(\n",
      "/home/vscode/venv/lib/python3.12/site-packages/sklearn/linear_model/_logistic.py:1272: FutureWarning: 'multi_class' was deprecated in version 1.5 and will be removed in 1.7. From then on, it will always use 'multinomial'. Leave it to its default value to avoid this warning.\n",
      "  warnings.warn(\n",
      "/home/vscode/venv/lib/python3.12/site-packages/sklearn/linear_model/_logistic.py:1272: FutureWarning: 'multi_class' was deprecated in version 1.5 and will be removed in 1.7. From then on, it will always use 'multinomial'. Leave it to its default value to avoid this warning.\n",
      "  warnings.warn(\n",
      "/home/vscode/venv/lib/python3.12/site-packages/sklearn/linear_model/_logistic.py:1272: FutureWarning: 'multi_class' was deprecated in version 1.5 and will be removed in 1.7. From then on, it will always use 'multinomial'. Leave it to its default value to avoid this warning.\n",
      "  warnings.warn(\n"
     ]
    },
    {
     "name": "stdout",
     "output_type": "stream",
     "text": [
      "Classification report (cross-val predictions):\n",
      "              precision    recall  f1-score   support\n",
      "\n",
      "  Big Sister       0.00      0.00      0.00        24\n",
      "      Cranky       0.25      0.25      0.25        55\n",
      "        Jock       0.15      0.18      0.17        55\n",
      "        Lazy       0.14      0.13      0.14        60\n",
      "      Normal       0.11      0.14      0.12        59\n",
      "       Peppy       0.21      0.22      0.22        49\n",
      "        Smug       0.00      0.00      0.00        34\n",
      "      Snooty       0.08      0.09      0.08        55\n",
      "\n",
      "    accuracy                           0.14       391\n",
      "   macro avg       0.12      0.13      0.12       391\n",
      "weighted avg       0.13      0.14      0.14       391\n",
      "\n"
     ]
    }
   ],
   "source": [
    "cv = StratifiedKFold(n_splits=5, shuffle=True, random_state=0)\n",
    "rf = RandomForestClassifier(n_estimators=200, random_state=0)\n",
    "log = LogisticRegression(max_iter=1000, multi_class='multinomial', solver='lbfgs')\n",
    "scores_rf = cross_val_score(rf, X, y, cv=cv, scoring='accuracy')\n",
    "scores_rf_bal = cross_val_score(rf, X, y, cv=cv, scoring='balanced_accuracy')\n",
    "print('RandomForest accuracy (cv):', np.mean(scores_rf).round(3), '±', np.std(scores_rf).round(3))\n",
    "print('RandomForest balanced accuracy (cv):', np.mean(scores_rf_bal).round(3))\n",
    "scores_lr = cross_val_score(log, X, y, cv=cv, scoring='accuracy')\n",
    "print('LogisticRegression accuracy (cv):', np.mean(scores_lr).round(3))\n",
    "y_pred_cv = cross_val_predict(rf, X, y, cv=cv)\n",
    "print('Classification report (cross-val predictions):')\n",
    "print(classification_report(y, y_pred_cv, target_names=le_personality.classes_))"
   ]
  },
  {
   "cell_type": "code",
   "execution_count": 10,
   "id": "ea2a29fe",
   "metadata": {},
   "outputs": [
    {
     "data": {
      "image/png": "[encoded data removed]",
      "text/plain": [
       "<Figure size 1000x800 with 2 Axes>"
      ]
     },
     "metadata": {},
     "output_type": "display_data"
    }
   ],
   "source": [
    "# Confusion matrix heatmap\n",
    "cm = confusion_matrix(y, y_pred_cv)\n",
    "plt.figure(figsize=(10,8))\n",
    "sns.heatmap(cm, annot=True, fmt='d', cmap='Blues', xticklabels=le_personality.classes_, yticklabels=le_personality.classes_)\n",
    "plt.xlabel('Predicted')\n",
    "plt.ylabel('True')\n",
    "plt.title('Confusion matrix: Personality (cv)')\n",
    "plt.tight_layout()\n",
    "plt.show()"
   ]
  },
  {
   "cell_type": "markdown",
   "id": "ce820471",
   "metadata": {},
   "source": [
    "## Visualize contingency table\n",
    "Heatmap of species x personality counts (showing top species by count to keep the plot readable)."
   ]
  },
  {
   "cell_type": "code",
   "execution_count": 11,
   "id": "f6c559cc",
   "metadata": {},
   "outputs": [
    {
     "data": {
      "image/png": "[encoded data removed]",
      "text/plain": [
       "<Figure size 1200x800 with 2 Axes>"
      ]
     },
     "metadata": {},
     "output_type": "display_data"
    }
   ],
   "source": [
    "top_species = df_work['Species'].value_counts().nlargest(20).index\n",
    "ct_top = pd.crosstab(df_work.loc[df_work['Species'].isin(top_species), 'Species'], df_work['Personality'])\n",
    "plt.figure(figsize=(12,8))\n",
    "sns.heatmap(ct_top, cmap='magma')\n",
    "plt.title('Species x Personality (top species)')\n",
    "plt.tight_layout()\n",
    "plt.show()"
   ]
  },
  {
   "cell_type": "markdown",
   "id": "e95a77d2",
   "metadata": {},
   "source": [
    "## Save processed data and results\n",
    "Save cleaned dataframe, one-hot features, the label encoder, and the RandomForest model trained on full data for later reuse."
   ]
  },
  {
   "cell_type": "code",
   "execution_count": 12,
   "id": "15a2b9ce",
   "metadata": {},
   "outputs": [
    {
     "name": "stdout",
     "output_type": "stream",
     "text": [
      "Saved outputs to ./output\n"
     ]
    }
   ],
   "source": [
    "out_dir = './output'\n",
    "os.makedirs(out_dir, exist_ok=True)\n",
    "df_work.to_csv(os.path.join(out_dir, 'villagers_cleaned.csv'), index=False)\n",
    "species_ohe.to_csv(os.path.join(out_dir, 'species_ohe.csv'), index=False)\n",
    "\n",
    "# Fit RF on full data and save\n",
    "rf_full = RandomForestClassifier(n_estimators=200, random_state=0)\n",
    "rf_full.fit(X, y)\n",
    "\n",
    "# Save summary JSON\n",
    "summary = {\n",
    "    'n_samples': int(len(df_work)),\n",
    "    'n_species': int(df_work['Species'].nunique()),\n",
    "    'n_personalities': int(df_work['Personality'].nunique()),\n",
    "    'cramers_v': float(cramers_v),\n",
    "    'mi_top': mi_series.head(10).to_dict(),\n",
    "    'rf_cv_accuracy_mean': float(np.mean(scores_rf))\n",
    "}\n",
    "with open(os.path.join(out_dir, 'summary.json'), 'w') as f:\n",
    "    json.dump(summary, f, indent=2)\n",
    "print('Saved outputs to', out_dir)"
   ]
  },
  {
   "cell_type": "markdown",
   "id": "c2e1eb87",
   "metadata": {},
   "source": [
    "## Next steps / Notes\n",
    "- Current baseline predicts `Personality` from `Species` only. Consider reversing the problem or adding more features (Gender, Hobby).\n",
    "- For imbalanced classes, use stratified sampling or class-weighted models.\n",
    "- Use feature importance or SHAP for more interpretable models."
   ]
  }
 ],
 "metadata": {
  "kernelspec": {
   "display_name": "venv (3.12.11)",
   "language": "python",
   "name": "python3"
  },
  "language_info": {
   "codemirror_mode": {
    "name": "ipython",
    "version": 3
   },
   "file_extension": ".py",
   "mimetype": "text/x-python",
   "name": "python",
   "nbconvert_exporter": "python",
   "pygments_lexer": "ipython3",
   "version": "3.12.11"
  }
 },
 "nbformat": 4,
 "nbformat_minor": 5
}
