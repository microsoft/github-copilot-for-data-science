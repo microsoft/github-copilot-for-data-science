{
 "cells": [
  {
   "cell_type": "markdown",
   "id": "329448a2",
   "metadata": {},
   "source": [
    "# Introduction to GitHub Copilot for Data Science"
   ]
  },
  {
   "cell_type": "markdown",
   "id": "db7c2b23",
   "metadata": {},
   "source": [
    "---\n",
    "## Intro\n",
    "\n",
    "This repository contains the source code for the complete workshop. You will follow the step-by-step guide below, completing all the steps while working with data and GitHub Copilot within Codespaces."
   ]
  },
  {
   "cell_type": "markdown",
   "id": "b8d8189c",
   "metadata": {},
   "source": [
    "> 📝 **Note:**\n",
    "> This repo is intended to give an introduction to various **GitHub Copilot** features, such as **Copilot Chat** and **inline chat**. Hence the step-by-step guides below contain the general description of what needs to be done, and Copilot Chat or inline chat can support you in generating the necessary commands.\n",
    ">\n",
    "> Each step (where applicable) also contains a `Cheatsheet` which has some suggested prompts if you get stuck.\n",
    "\n",
    "> 💡 Play around with different prompts and see how it affects the accuracy of the GitHub Copilot suggestions. For example, when using inline chat, you can use an additional prompt to refine the response without having to rewrite the whole prompt."
   ]
  },
  {
   "cell_type": "markdown",
   "id": "df78fdde",
   "metadata": {},
   "source": [
    "### Data Science Project features\n",
    "\n",
    "In this workshop, you will be working with CSV data included in this repository, as well as a Jupyter Notebook that starts some analysis of the data. Here are some features of the project you will work with:\n",
    "\n",
    "1. Review a CSV dataset and clean the data\n",
    "1. Fast track creating a new analysis notebook from scratch\n",
    "1. Identify correlations and create polished, exportable results"
   ]
  },
  {
   "cell_type": "markdown",
   "id": "929a631f",
   "metadata": {},
   "source": [
    "## Workshop Preparation"
   ]
  },
  {
   "cell_type": "markdown",
   "id": "7c0a8d51",
   "metadata": {},
   "source": [
    "\n",
    "This repository is Codespaces-ready and is pre-configured so that you have all dependencies installed including the Visual Studio Code extensions necessary to work with GitHub Copilot, Jupyter Notebooks, and Python:\n",
    "\n",
    "- GitHub Copilot\n",
    "- Python extension\n",
    "- Jupyter extension\n",
    "- Data Wrangler extension\n",
    "- Pre-installed Python dependencies with an activated Virtual Environment\n",
    "\n",
    "> ❗\n",
    "> If using this repository in your account or a non-GitHub-Universe organization, you might incur in charges or consumption of your free quota for Codespaces."
   ]
  },
  {
   "cell_type": "markdown",
   "id": "a1c0d503",
   "metadata": {},
   "source": [
    "### 1. Create a new repository from this template\n",
    "\n",
    "⏳ **~2min**\n",
    "\n",
    "- Click `Use this template` $\\rightarrow$ `Create a new repository`\n",
    "- Set the owner to your orginization or if you have none, your personal account.\n",
    "- Give it a name\n",
    "- Set visibility to `Private`\n",
    "- Click `Create repository`"
   ]
  },
  {
   "cell_type": "markdown",
   "id": "8bbed719",
   "metadata": {},
   "source": [
    "### 2. Create a Codespace using the provided template\n",
    "\n",
    "⏳ **~3min**\n",
    "\n",
    "- In the newly created repo, click `Code` $\\rightarrow$ `Codespaces` $\\rightarrow$ `[ellipsis menu]` $\\rightarrow$ `New with options` $\\rightarrow$ _Ensure that `Dev container configuration` is set to `Default project configuration`_ $\\rightarrow$ `Create codespace`\n",
    "- ❗If you're having problems launching the Codespace then you can also clone the repo and continue from here in your IDE:\n",
    "\n",
    "    ```sh\n",
    "    git clone https://github.com/<YOUR_NAME_SPACE>/<YOUR_REPO_NAME>.git\n",
    "    cd <YOUR_REPO_NAME>\n",
    "    ```\n",
    "\n",
    "> 📝 **Note:** There is no need to push changes back to the repo during the workshop"
   ]
  },
  {
   "cell_type": "markdown",
   "id": "8282df8d",
   "metadata": {},
   "source": [
    "### 3. Verify Python is installed and set correctly\n",
    "\n",
    "⏳ **~2min**\n",
    "\n",
    "- Use the command palette to toggle the terminal (search for \"Create new terminal\")\n",
    "- Run `which python` and make sure it points to the Virtual Environment (`home/vscode/venv/bin/python`)\n",
    "- Run `which pip` and ensure that it also points to the Virtual Environment (`home/vscode/venv/bin/pip`)"
   ]
  },
  {
   "cell_type": "markdown",
   "id": "effed53d",
   "metadata": {},
   "source": [
    "### 4. Open relevant files\n",
    "\n",
    "⏳ **~2min**\n",
    "\n",
    "GitHub Copilot benefits from having context. One way to enhance context is by opening relevant files, else you can add them into your prompt context later.\n",
    "\n",
    "> ❗If you see that the Copilot icon in VS Code's bottom bar, right side has a slash through it, click it and enable Copilot\n",
    "\n",
    "- Open the `data/acnh-data/villagers.csv`, `data/acnh-data/fish.csv` and `workshop/villagers_analysis.ipynb`  files."
   ]
  },
  {
   "cell_type": "markdown",
   "id": "baf19413",
   "metadata": {},
   "source": [
    "## Data Wrangling"
   ]
  },
  {
   "cell_type": "markdown",
   "id": "771955d2",
   "metadata": {},
   "source": [
    "### 1. See how much you can learn about the project and the data\n",
    "\n",
    "⏳ **~5min**\n",
    "\n",
    "- Open GitHub Copilot Chat (click on the sparkling thought bubble in the top of the window of VS Code)\n",
    "- Make sure the mode dropdown in the bottom left corner of the chat box is set to \"agent\"\n",
    "- Use the `@workspace` agent to ask Copilot what is the nature of the data you are going to work with\n",
    "- Also ask `@workspace` what sort of python packages the project uses, and in what ways"
   ]
  },
  {
   "cell_type": "markdown",
   "id": "be440fdc",
   "metadata": {},
   "source": [
    "<details>\n",
    "<summary>Cheatsheet</summary>\n",
    "\n",
    "##### Prompt\n",
    "\n",
    "```sh\n",
    "@workspace Tell me about this project\n",
    "@workspace What python packages does this repo use and why?\n",
    "```\n",
    "\n",
    "</details>"
   ]
  },
  {
   "cell_type": "markdown",
   "id": "5afb8d9b",
   "metadata": {},
   "source": [
    "### 2. Review the data files with Data Wrangler\n",
    "\n",
    "⏳ **~5min**\n",
    "\n",
    "- Right click on `data/acnh-data/fish.csv`, and open it with Data Wrangler. If it needs a kernel selected, choose the the `venv` Python environment\n",
    "- Scroll around and look at the state of the data, noting all of the column summaries at the top\n",
    "- Using the Copilot agent built into Data Wrangler in the panel below the grid, ask it to change the values of the `Rain/Snow Catch Up` column to a bool type with 0 as false\n",
    "- Click the apply button below the Copilot generated code to apply the transformation\n",
    "- Export your new data as a csv file `fish-cleaned.csv` via the button just above the grid that says `Export to CSV`\n",
    "\n",
    "> 📝 **Note:**\n",
    "> There is more cleaning we could do, but we will get Copilot to help more in future steps.\n",
    "\n",
    ">💡 If you need to repeat the same cleaning process many times, you can export your steps in Data Wrangler to a reuseable notebook or as python code to your clipbord!\n"
   ]
  },
  {
   "cell_type": "markdown",
   "id": "85901e93",
   "metadata": {},
   "source": [
    "<details>\n",
    "<summary>Cheatsheet</summary>\n",
    "\n",
    "##### Prompt\n",
    "\n",
    "```sh\n",
    "Convert this column to a bool type where No is 0\n",
    "```\n",
    "\n",
    "</details>"
   ]
  },
  {
   "cell_type": "markdown",
   "id": "7b459f7c",
   "metadata": {},
   "source": [
    "## Initial analysis"
   ]
  },
  {
   "cell_type": "markdown",
   "id": "7e60340f",
   "metadata": {},
   "source": [
    "### 3. Start a new notebook for the cleaned fish data\n",
    "\n",
    "⏳ **~5min**\n",
    "\n",
    "- Open the Copilot chat panel from the icon in the top menubar or the command pallet (View: Toggle Chat)\n",
    "- Click the ➕ button in the top of the panel to start a new chat\n",
    "- Make sure you have your new `fish-cleaned.csv` file open in the editor to make things easy.\n",
    "- In the text box at the bottom click the add context button and select your newly cleaned `fish-cleaned.csv`\n",
    "- In the bottom left of the chat box, select the `ds-create` mode for the chat.\n",
    "- Ask Copilot to start a new Jupyter Notebook for this data in the chat panel text box\n"
   ]
  },
  {
   "cell_type": "markdown",
   "id": "6ce8564a",
   "metadata": {},
   "source": [
    "<details>\n",
    "<summary>Cheatsheet</summary>\n",
    "\n",
    "##### Prompt\n",
    "\n",
    "```sh\n",
    "Can you start a new notebook for this fish data?\n",
    "```\n",
    "\n",
    "</details>"
   ]
  },
  {
   "cell_type": "markdown",
   "id": "98fe0240",
   "metadata": {},
   "source": [
    "### 4. Review and edit visualizations inline in notebooks\n",
    "\n",
    "⏳ **~3min**\n",
    "\n",
    "- In your newly created notebook, go to a cell output that has a plot\n",
    "- Click and drag it to the Copilot chat panel and ask directly for it to change something about the plot (you can also add it by clicking the `...` to the top right of the cell)\n"
   ]
  },
  {
   "cell_type": "markdown",
   "id": "1ee2998e",
   "metadata": {},
   "source": [
    "<details>\n",
    "<summary>Cheatsheet</summary>\n",
    "\n",
    "##### Prompt\n",
    "\n",
    "```sh\n",
    "Can you make all of these plots higher dpi and using colorblind safe color pallets?\n",
    "```\n",
    "\n",
    "</details>"
   ]
  },
  {
   "cell_type": "markdown",
   "id": "0b56ab9e",
   "metadata": {},
   "source": [
    "## Extending and refining notebooks"
   ]
  },
  {
   "cell_type": "markdown",
   "id": "dd563067",
   "metadata": {},
   "source": [
    "### 5. Continue the villager analysis with the `ds-categorical-analysis` agent\n",
    "\n",
    "⏳ **~5min**\n",
    "\n",
    "- Open the `villager_analysis.ipynb` file and the Copilot chat side panel\n",
    "- Click the ➕ button in the top of the panel to start a new chat\n",
    "- Add the `villager_analysis.ipynb` notebook to the context of the chat and switch the agent mode in the bottom left to the `ds-categorical-analysis` mode.\n",
    "- Ask Copilot to extend the analysis of the villagers and see if there are any villager traits that are corelated.\n"
   ]
  },
  {
   "cell_type": "markdown",
   "id": "4a6bbe63",
   "metadata": {},
   "source": [
    "<details>\n",
    "<summary>Cheatsheet</summary>\n",
    "\n",
    "##### Prompt\n",
    "\n",
    "```sh\n",
    "Help me figure out if any properties of the villagers are correlated.\n",
    "```\n",
    "\n",
    "</details>"
   ]
  },
  {
   "cell_type": "markdown",
   "id": "86cf7d21",
   "metadata": {},
   "source": [
    "### 6. Prepare graphics for export\n",
    "\n",
    "⏳ **2min**\n",
    "\n",
    "- In a cell generating plots in the notebook, open inline Copilot chat (Ctrl-i / Cmd-i) and ask the agent to help add a method to export the plots in that cell as high resolution pngs"
   ]
  },
  {
   "cell_type": "markdown",
   "id": "35499d7d",
   "metadata": {},
   "source": [
    "<details>\n",
    "<summary>Cheatsheet</summary>\n",
    "\n",
    "##### Prompt\n",
    "\n",
    "```sh\n",
    "Export all the plots in this cell as high DPI PNGs \n",
    "```\n",
    "\n",
    "</details>"
   ]
  },
  {
   "cell_type": "markdown",
   "id": "31d306b4",
   "metadata": {},
   "source": [
    "### 7. Create Shareable output\n",
    "\n",
    "⏳ **2min**\n",
    "\n",
    "- With the Notebook you created open, you should be able to find a button in the top toolbar of the notebook (may be under the `...`) to export your notebook\n",
    "- Choose HTML or PDF and check the output by right clicking on the file in the VS Code file browers and choose `Show Preview` for HTML or just open the PDF"
   ]
  },
  {
   "cell_type": "markdown",
   "id": "e5a296ca",
   "metadata": {},
   "source": [
    "## Clean-up\n",
    "\n",
    "### 7. Delete your Codespace\n",
    "\n",
    "⏳ **~1min**\n",
    "\n",
    "Before deleting, if you wish, you can push your changes. Remember workshop repositories are temporary too.\n",
    "\n",
    "Go to https://github.com/codespaces and find your current running Codespace and delete it."
   ]
  },
  {
   "cell_type": "markdown",
   "id": "6f91cc9d",
   "metadata": {},
   "source": [
    "## Additional resources\n",
    "\n",
    "If you want to learn more about using GitHub Copilot, check out these resources:\n",
    "\n",
    "* [GitHub Copilot Documentation](https://docs.github.com/copilot)\n",
    "* [VS Code video series: GitHub Copilot](https://www.youtube.com/playlist?list=PLj6YeMhvp2S7rQaCLRrMnzRdkNdKnMVwg)\n",
    "* [Blog: Best practices for prompting Copilot](http://blog.pamelafox.org/2023/06/best-practices-for-prompting-github.html)\n",
    "\n",
    "Also check out the [GitHub Foundations learning path](https://learn.microsoft.com/training/paths/github-foundations/) for more resources on GitHub and GitHub Copilot."
   ]
  }
 ],
 "metadata": {
  "kernelspec": {
   "display_name": "venv (3.12.11)",
   "language": "python",
   "name": "python3"
  },
  "language_info": {
   "codemirror_mode": {
    "name": "ipython",
    "version": 3
   },
   "file_extension": ".py",
   "mimetype": "text/x-python",
   "name": "python",
   "nbconvert_exporter": "python",
   "pygments_lexer": "ipython3",
   "version": "3.12.11"
  }
 },
 "nbformat": 4,
 "nbformat_minor": 5
}
