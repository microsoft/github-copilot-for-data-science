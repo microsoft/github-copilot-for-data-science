{
 "cells": [
  {
   "cell_type": "markdown",
   "id": "329448a2",
   "metadata": {},
   "source": [
    "# Introduction to GitHub Copilot for Data Science"
   ]
  },
  {
   "cell_type": "markdown",
   "id": "db7c2b23",
   "metadata": {},
   "source": [
    "---\n",
    "## Intro\n",
    "\n",
    "This repository contains the source code for the complete workshop. You will follow the step-by-step guide below, completing all the steps while working with data and GitHub Copilot within Codespaces."
   ]
  },
  {
   "cell_type": "markdown",
   "id": "b8d8189c",
   "metadata": {},
   "source": [
    "> 📝 **Note:**\n",
    "> This repo is intended to give an introduction to various **GitHub Copilot** features, such as **Copilot Chat** and **inline chat**. Hence the step-by-step guides below contain the general description of what needs to be done, and Copilot Chat or inline chat can support you in generating the necessary commands.\n",
    ">\n",
    "> Each step (where applicable) also contains a `Cheatsheet` which can be used to validate the Copilot suggestion(s) against the correct command.\n",
    "\n",
    "> 💡 Play around with different prompts and see how it affects the accuracy of the GitHub Copilot suggestions. For example, when using inline chat, you can use an additional prompt to refine the response without having to rewrite the whole prompt."
   ]
  },
  {
   "cell_type": "markdown",
   "id": "df78fdde",
   "metadata": {},
   "source": [
    "### Data Project features\n",
    "\n",
    "TODO: Update this\n",
    "\n",
    "In this workshop, you will be working with data from a CSV file included in this repository, as well as a Python script file that will interact with the CSV file. Here are some features of the project you will work with:\n",
    "\n",
    "1. Consume a CSV dataset and perform transformations\n",
    "1. Identify and implement validations\n",
    "1. Create a command-line tool that can be used in CI/CD environments"
   ]
  },
  {
   "cell_type": "markdown",
   "id": "929a631f",
   "metadata": {},
   "source": [
    "## Workshop Preparation"
   ]
  },
  {
   "cell_type": "markdown",
   "id": "7c0a8d51",
   "metadata": {},
   "source": [
    "\n",
    "This repository is Codespaces-ready and is pre-configured so that you have all dependencies installed including the Visual Studio Code extensions necessary to work with GitHub Copilot, Jupyter Notebooks, and Python:\n",
    "\n",
    "- GitHub Copilot\n",
    "- Python extension\n",
    "- Jupyter extension\n",
    "- Pre-installed Python dependencies with an activated Virtual Environment\n",
    "\n",
    "> ❗\n",
    "> If using this repository in your account or a non-GitHub-Universe organization, you might incur in charges or consumption of your free quota for Codespaces."
   ]
  },
  {
   "cell_type": "markdown",
   "id": "a1c0d503",
   "metadata": {
    "tags": [
     "slide"
    ]
   },
   "source": [
    "### 1. Create a new repository from this template\n",
    "\n",
    "Progress: [🟢⚪⚪⚪⚪⚪⚪⚪⚪⚪⚪⚪] 1/12 (8%)\n",
    "\n",
    "⏳ **~2min**\n",
    "\n",
    "- Click `Use this template` $\\rightarrow$ `Create a new repository`\n",
    "- Set the owner to #TODO: What org for this?\n",
    "- Give it a name\n",
    "- Set visibility to `Private`\n",
    "- Click `Create repository`"
   ]
  },
  {
   "cell_type": "markdown",
   "id": "8bbed719",
   "metadata": {},
   "source": [
    "### 2. Create a Codespace using the provided template\n",
    "\n",
    "⏳ **~3min**\n",
    "\n",
    "- In the newly created repo, click `Code` $\\rightarrow$ `Codespaces` $\\rightarrow$ `[ellipsis menu]` $\\rightarrow$ `New with options` $\\rightarrow$ _Ensure that `Dev container configuration` is set to `Default project configuration`_ $\\rightarrow$ `Create codespace`\n",
    "- ❗If you're having problems launching the Codespace then you can also clone the repo and continue from here in your IDE:\n",
    "\n",
    "    ```sh\n",
    "    git clone https://github.com/<YOUR_NAME_SPACE>/<YOUR_REPO_NAME>.git\n",
    "    cd <YOUR_REPO_NAME>\n",
    "    ```\n",
    "\n",
    "> 📝 **Note:** There is no need to push changes back to the repo during the workshop"
   ]
  },
  {
   "cell_type": "markdown",
   "id": "8282df8d",
   "metadata": {},
   "source": [
    "### 3. Verify Python is installed and set correctly\n",
    "\n",
    "⏳ **~2min**\n",
    "\n",
    "- Use the command palette to toggle the terminal (search for \"Create new terminal\")\n",
    "- Run `which python` and make sure it points to the Virtual Environment (`home/vscode/venv/bin/python`)\n",
    "- Run `which pip` and ensure that it also points to the Virtual Environment (`home/vscode/venv/bin/pip`)"
   ]
  },
  {
   "cell_type": "markdown",
   "id": "effed53d",
   "metadata": {},
   "source": [
    "### 4. Open relevant files\n",
    "\n",
    "⏳ **~2min**\n",
    "\n",
    "GitHub Copilot benefits from having context. One way to enhance context is by opening relevant files.\n",
    "\n",
    "TODO: appropriate files - Open the `main.py`, `check.py`, `train.csv`, and `transformed_train.csv` files"
   ]
  },
  {
   "cell_type": "markdown",
   "id": "baf19413",
   "metadata": {},
   "source": [
    "## Data importing and cleaning"
   ]
  },
  {
   "cell_type": "markdown",
   "id": "771955d2",
   "metadata": {},
   "source": [
    "### 1. See how much you can learn about the project and the data\n",
    "\n",
    "⏳ **~5min**\n",
    "\n",
    "- Open GitHub Copilot Chat\n",
    "- Use the `@workspace` agent to ask Copilot what the `main.py` and `check.py` files are doing\n",
    "- Again, with the `@workspace` agent, ask Copilot what is the nature of the data you are going to work with"
   ]
  },
  {
   "cell_type": "markdown",
   "id": "dd563067",
   "metadata": {},
   "source": [
    "#### 2. Fix the high ratings function\n",
    "\n",
    "Progress: [🟢🟢🟢🟢🟢🟢🟢⚪⚪⚪⚪⚪] 7/12 (58%)\n",
    "\n",
    "⏳ **~3min**\n",
    "\n",
    "- In `main.py` find the `select_high_ratings()` function\n",
    "- Insert your cursor in the function signature or body somewhere\n",
    "- Open inline chat with `Ctrl-i` or `Cmd-i` (on Mac)\n",
    "- Prefix your prompt with the `/explain` slash command\n",
    "- Ask why this function might not be working and implement any potential fixes\n",
    "- Re-generate `transformed_train.csv` by running `python main.py`\n",
    "- Verify the fix by running `python check.py` with this function returning an `OK`"
   ]
  },
  {
   "cell_type": "markdown",
   "id": "4a6bbe63",
   "metadata": {},
   "source": [
    "<details>\n",
    "<summary>Cheatsheet</summary>\n",
    "\n",
    "##### Prompt\n",
    "\n",
    "```sh\n",
    "/explain why this function might not be working correctly?\n",
    "```\n",
    "\n",
    "##### Expected output\n",
    "\n",
    "```sh\n",
    "Based on the provided code, there are a few potential reasons why the `select_high_ratings` function might not be working correctly:\n",
    "\n",
    "1. Typo in Column Name: The function checks if the column name 'ratings' exists in the DataFrame `df.columns` If there is a typo in the column name, such as 'rating' instead of 'ratings', the condition `if 'ratings' in df.columns`\n",
    "```\n",
    "</details>"
   ]
  },
  {
   "cell_type": "markdown",
   "id": "98fe0240",
   "metadata": {},
   "source": [
    "#### 3. Fix the one-hot encoding problem\n",
    "\n",
    "Progress: [🟢🟢🟢🟢🟢🟢🟢🟢⚪⚪⚪⚪] 8/12 (66%)\n",
    "\n",
    "⏳ **~3min**\n",
    "\n",
    "- Select the `drop_and_one_hot_encode_red_wine()` function and open inline chat (Ctrl-i/ Cmd-i)\n",
    "- Use the `/fix` slash command to ask GitHub Copilot to suggest a potential fix\n",
    "- Re-generate `transformed_train.csv` by running `python main.py`\n",
    "- Verify the fix by running `python check.py` with this function returning an `OK`"
   ]
  },
  {
   "cell_type": "markdown",
   "id": "1ee2998e",
   "metadata": {},
   "source": [
    "<details>\n",
    "<summary>Cheatsheet</summary>\n",
    "\n",
    "##### Prompt\n",
    "\n",
    "```sh\n",
    "This function is not doing one-hot encoding on the variety column\n",
    "```\n",
    "\n",
    "##### Expected output\n",
    "\n",
    "```python\n",
    "def drop_and_one_hot_encode_red_wine(df):\n",
    "    \"\"\"\n",
    "    Create a 'Red_Wine' column that is 1 if 'variety' is 'Red Wine' and 0 otherwise.\n",
    "    Drop the original 'variety' column.\n",
    "    \"\"\"\n",
    "    if 'variety' in df.columns:\n",
    "        df['Red_Wine'] = df['variety'].apply(lambda x: 1 if x == 'Red Wine' else 0)\n",
    "        df = df.drop(columns=['variety'])\n",
    "    return df\n",
    "```\n",
    "</details>"
   ]
  },
  {
   "cell_type": "markdown",
   "id": "c75e0d07",
   "metadata": {},
   "source": [
    "#### 4. Fix the ratings conversion to int\n",
    "\n",
    "Progress: [🟢🟢🟢🟢🟢🟢🟢🟢🟢⚪⚪⚪] 9/12 (75%)\n",
    "\n",
    "⏳ **~3min**\n",
    "\n",
    "- If your `verify_ratings_to_int` check is already \"OK\", then Copilot may have already fixed this issue for you. If not, continue with the following steps.\n",
    "- Select the `convert_ratings_to_int()` function and open inline chat (Ctrl-i / Cmd-i)\n",
    "- Use the `/explain` slash command to ask GitHub Copilot why this function might not be working correctly\n",
    "- Identify the problem and implement the fix\n",
    "- Re-generate `transformed_train.csv` by running `python main.py`\n",
    "- Verify the fix by running `python check.py` with this function returning an `OK`"
   ]
  },
  {
   "cell_type": "markdown",
   "id": "0c53a940",
   "metadata": {},
   "source": [
    "<details>\n",
    "<summary>Cheatsheet</summary>\n",
    "\n",
    "##### Prompt\n",
    "\n",
    "```sh\n",
    "This function is not converting the ratings to integers\n",
    "```\n",
    "\n",
    "##### Expected output\n",
    "\n",
    "```python\n",
    "def convert_ratings_to_int(df):\n",
    "    \"\"\"\n",
    "    Convert the 'rating' column from float to integer.\n",
    "    \"\"\"\n",
    "    if 'rating' in df.columns:\n",
    "        df['rating'] = df['rating'].to_int()\n",
    "    return df\n",
    "```\n",
    "</details>"
   ]
  },
  {
   "cell_type": "markdown",
   "id": "df79f380",
   "metadata": {},
   "source": [
    "## Preliminary analysis\n",
    "TODO:\n",
    "<!-- A robust Python project can benefit from testing. You will add some unit tests and find more on how to run these tests with the help of GitHub Copilot.\n",
    "\n",
    "Make sure you have the terminal open by running the command palette and typing `toggle terminal` -->"
   ]
  },
  {
   "cell_type": "markdown",
   "id": "7006f08c",
   "metadata": {},
   "source": [
    "### 1. Test your CLI\n",
    "\n",
    "Progress: [🟢🟢🟢🟢🟢🟢🟢🟢🟢🟢⚪⚪] 10/12 (83%)\n",
    "\n",
    "⏳ **~5min**\n",
    "\n",
    "- This project has the Pytest test runner and framework pre-installed, make sure it is available by running `pytest --version`\n",
    "- Run the tests while in the `workshop` directory by using the following command: `pytest -v`\n",
    "\n",
    "The output should give you a failure."
   ]
  },
  {
   "cell_type": "markdown",
   "id": "9ad44e78",
   "metadata": {},
   "source": [
    "#### 2. Fix the failing test\n",
    "\n",
    "Progress: [🟢🟢🟢🟢🟢🟢🟢🟢🟢🟢🟢⚪] 11/12 (91%)\n",
    "\n",
    "⏳ **~5min**\n",
    "\n",
    "- Select the output in the terminal and paste it into GitHub Copilot Chat, prefixing with a request for a fix and an explanation\n",
    "- Use the output from the chat to implement a fix in `test_main.py`"
   ]
  },
  {
   "cell_type": "markdown",
   "id": "57a249c0",
   "metadata": {},
   "source": [
    "<details>\n",
    "<summary>Cheatsheet</summary>\n",
    "\n",
    "##### Prompt\n",
    "\n",
    "```sh\n",
    "Fix the test and explain your fix:\n",
    "// Copy and paste the output from the terminal here\n",
    "```\n",
    "\n",
    "##### Expected output\n",
    "\n",
    "The error occurs because the drop_notes function is likely modifying the DataFrame in place, rather than returning a new DataFrame with the 'notes' column dropped. To fix the test, we need to ensure that the drop_notes function returns a new DataFrame without the 'notes' column and then check the columns of this new DataFrame.\n",
    "\n",
    "Here is the corrected test function:\n",
    "\n",
    "```python\n",
    "def test_drop_notes_column_dropped():\n",
    "    # Create a sample DataFrame with 'notes' column\n",
    "    df = pd.DataFrame({'A': [1, 2, 3], 'B': [4, 5, 6], 'notes': ['note1', 'note2', 'note3']})\n",
    "\n",
    "    # Call the drop_notes function and get the result\n",
    "    result = main.drop_notes(df)\n",
    "    \n",
    "    # Assert that 'notes' column in result dataframe is dropped\n",
    "    columns = result.columns.to_list()\n",
    "    assert columns == ['A', 'B']\n",
    "```\n",
    "</details>"
   ]
  },
  {
   "cell_type": "markdown",
   "id": "475f466f",
   "metadata": {},
   "source": [
    "#### 3. Add tests for the one hot encoding function\n",
    "\n",
    "Progress: [🟢🟢🟢🟢🟢🟢🟢🟢🟢🟢🟢🟢] 12/12 (100%) - 🎉 Celebrate!\n",
    "\n",
    "⏳ **~5min**\n",
    "\n",
    "- Ensure that the `python check.py` has all OK output, otherwise this step might not work.\n",
    "- Select the `drop_and_one_hot_encode_red_wine` function in `main.py`\n",
    "- Open inline chat with `Ctrl-i`/`Cmd-i`\n",
    "- Use the `/tests` slash command to get suggestions on tests\n",
    "- Review the output, accept it, and verify with the `pytest -v` command. All tests should be passing, and you should have more tests than before. Sometimes Copilot will indent the suggested tests incorrectly (nesting them inside an existing test function), so make sure the tests are correctly indented before running them."
   ]
  },
  {
   "cell_type": "markdown",
   "id": "833dd622",
   "metadata": {},
   "source": [
    "<details>\n",
    "<summary>Cheatsheet</summary>\n",
    "\n",
    "##### Prompt\n",
    "\n",
    "```sh\n",
    "/tests\n",
    "```\n",
    "\n",
    "##### Expected output\n",
    "\n",
    "```python\n",
    "def test_drop_and_one_hot_encode_red_wine_red_wine_column_created():\n",
    "    # Create a sample DataFrame with 'variety' column\n",
    "    df = pd.DataFrame({'A': [1, 2, 3], 'B': [4, 5, 6], 'variety': ['Red Wine', 'White Wine', 'Red Wine']})\n",
    "\n",
    "    # Call the drop_and_one_hot_encode_red_wine function\n",
    "    result = main.drop_and_one_hot_encode_red_wine(df)\n",
    "\n",
    "    # Assert that 'Red_Wine_Red Wine' column is created\n",
    "    assert 'Red_Wine_Red Wine' in result.columns\n",
    "\n",
    "def test_drop_and_one_hot_encode_red_wine_red_wine_column_encoded():\n",
    "    # Create a sample DataFrame with 'variety' column\n",
    "    df = pd.DataFrame({'A': [1, 2, 3], 'B': [4, 5, 6], 'variety': ['Red Wine', 'White Wine', 'Red Wine']})\n",
    "\n",
    "    # Call the drop_and_one_hot_encode_red_wine function\n",
    "    result = main.drop_and_one_hot_encode_red_wine(df)\n",
    "\n",
    "    # Assert that 'Red_Wine_Red Wine' column is encoded correctly\n",
    "    assert result['Red_Wine_Red Wine'].tolist() == [1, 0, 1]\n",
    "\n",
    "def test_drop_and_one_hot_encode_red_wine_variety_column_dropped():\n",
    "    # Create a sample DataFrame with 'variety' column\n",
    "    df = pd.DataFrame({'A': [1, 2, 3], 'B': [4, 5, 6], 'variety': ['Red Wine', 'White Wine', 'Red Wine']})\n",
    "\n",
    "    # Call the drop_and_one_hot_encode_red_wine function\n",
    "    result = main.drop_and_one_hot_encode_red_wine(df)\n",
    "\n",
    "    # Assert that 'variety' column is dropped\n",
    "    assert 'variety' not in result.columns\n",
    "\n",
    "def test_drop_and_one_hot_encode_red_wine_dataframe_unchanged():\n",
    "    # Create a sample DataFrame with 'variety' column\n",
    "    df = pd.DataFrame({'A': [1, 2, 3], 'B': [4, 5, 6], 'variety': ['Red Wine', 'White Wine', 'Red Wine']})\n",
    "\n",
    "    # Call the drop_and_one_hot_encode_red_wine function\n",
    "    result = main.drop_and_one_hot_encode_red_wine(df)\n",
    "\n",
    "    # Assert that the shape of the DataFrame is unchanged\n",
    "    assert result.shape == (3, 3)\n",
    "\n",
    "    # Assert that the original DataFrame is not modified\n",
    "    assert 'variety' in df.columns\n",
    "    assert df.shape == (3, 3)\n",
    "```\n",
    "</details>"
   ]
  },
  {
   "cell_type": "markdown",
   "id": "29599ead",
   "metadata": {},
   "source": [
    "## Bonus\n",
    "\n",
    "There are a couple of bonus challenges if you've completed all the tasks and your scripts are in good shape."
   ]
  },
  {
   "cell_type": "markdown",
   "id": "efc7a4ac",
   "metadata": {},
   "source": [
    "### Bonus Challenge 1 - Create a robust CLI tool\n",
    "\n",
    "Progress: [🟢🟢🟢🟢🟢🟢🟢🟢🟢🟢🟢🟢] 12/12 (100%) 🎉  \n",
    "Optional: [🚀 Turbo Boost! (1/2) 33%]\n",
    "\n",
    "- Use GitHub Copilot chat with the `@workspace` prefix to convert the project into a CLI with options and a help menu\n",
    "- Ensure that the prompt specifies no external dependencies and it should only use the standard library"
   ]
  },
  {
   "cell_type": "markdown",
   "id": "43980519",
   "metadata": {},
   "source": [
    "<details>\n",
    "<summary>Cheatsheet</summary>\n",
    "\n",
    "#### Prompt\n",
    "\n",
    "```shell\n",
    "@workspace I want to convert this project into a CLI with a help menu. Help me do this without using any dependencies, just pure Python standard library\n",
    "```\n",
    "\n",
    "#### Expected output\n",
    "\n",
    "```python\n",
    "def main():\n",
    "    parser = argparse.ArgumentParser(description=\"DataFrame manipulation CLI\")\n",
    "    subparsers = parser.add_subparsers(dest=\"command\")\n",
    "\n",
    "    subparsers.add_parser(\"drop_notes\", help=\"Drop the 'notes' column from the DataFrame\")\n",
    "    subparsers.add_parser(\"select_high_ratings\", help=\"Select rows where the 'rating' column is 90 or higher\")\n",
    "    subparsers.add_parser(\"drop_and_one_hot_encode_red_wine\", help=\"One-hot encode 'Red Wine' and drop 'variety' column\")\n",
    "    subparsers.add_parser(\"remove_newlines_carriage_returns\", help=\"Remove newlines and carriage returns from string columns\")\n",
    "    subparsers.add_parser(\"convert_ratings_to_int\", help=\"Convert the 'rating' column from float to integer\")\n",
    "\n",
    "    args = parser.parse_args()\n",
    "\n",
    "    # Load your DataFrame here\n",
    "    df = pd.read_csv('workshop/train.csv')\n",
    "\n",
    "    if args.command == \"drop_notes\":\n",
    "        df = drop_notes(df)\n",
    "    elif args.command == \"select_high_ratings\":\n",
    "        df = select_high_ratings(df)\n",
    "    elif args.command == \"drop_and_one_hot_encode_red_wine\":\n",
    "        df = drop_and_one_hot_encode_red_wine(df)\n",
    "    elif args.command == \"remove_newlines_carriage_returns\":\n",
    "        df = remove_newlines_carriage_returns(df)\n",
    "    elif args.command == \"convert_ratings_to_int\":\n",
    "        df = convert_ratings_to_int(df)\n",
    "    else:\n",
    "        parser.print_help()\n",
    "\n",
    "    # Save the transformed DataFrame\n",
    "    df.to_csv('workshop/transformed_train.csv', index=False)\n",
    "\n",
    "if __name__ == \"__main__\":\n",
    "    main()\n",
    "```\n",
    "</details>"
   ]
  },
  {
   "cell_type": "markdown",
   "id": "69cbf07c",
   "metadata": {},
   "source": [
    "### Bonus Challenge 2 - Document your project\n",
    "\n",
    "Progress: [🟢🟢🟢🟢🟢🟢🟢🟢🟢🟢🟢🟢] 12/12 (100%) 🎉  \n",
    "Optional: [🚀 Turbo Boost! (1/2) 33%]  \n",
    "Optional: [🌟 Extra Points! (2/2) 66%]\n",
    "\n",
    "- Create a new `docs/` folder and a file called `README.md`\n",
    "- Use GitHub Copilot chat with the `@workspace` prefix to get started documenting your project using Markdown in a README.md\n",
    "- In your prompt, ask for help documenting the project goals, the nature of the data in the CSV files, and how the CLI works."
   ]
  },
  {
   "cell_type": "markdown",
   "id": "5db43703",
   "metadata": {},
   "source": [
    "<details>\n",
    "<summary>Cheatsheet</summary>\n",
    "\n",
    "#### Prompt\n",
    "\n",
    "```shell\n",
    "@workspace help me create a good README.md file in Markdown so that I can document this and help others understand how it works and the nature of the data\n",
    "```\n",
    "\n",
    "#### Expected output\n",
    "\n",
    "```markdown\n",
    "# DataFrame Manipulation CLI\n",
    "\n",
    "This project provides a command-line interface (CLI) for manipulating a DataFrame using various operations. The CLI is built using the Python standard library and does not require any external dependencies.\n",
    "\n",
    "...\n",
    "```\n",
    "</details>"
   ]
  },
  {
   "cell_type": "markdown",
   "id": "6199faf5",
   "metadata": {},
   "source": [
    "### Bonus Challenge 3 - Automate the data transformation\n",
    "\n",
    "Progress: [🟢🟢🟢🟢🟢🟢🟢🟢🟢🟢🟢🟢] 12/12 (100%) 🎉  \n",
    "Optional: [🚀 Turbo Boost! (1/2) 33%]  \n",
    "Optional: [🌟 Extra Points! (2/2) 66%]  \n",
    "Optional: [🏆 Triple Threat! (2/2) 100%]\n",
    "\n",
    "- Create a new file called `transform-data.yaml` in the `.github/workflows/` directory.\n",
    "- Use GitHub Copilot chat with the `@workspace` prefix to create a GitHub Action that will transform the data whenever a push or pull request is made to the repository.\n",
    "- Open a pull request to test the action. If any errors occur, use the GitHub Copilot chat to help you fix them."
   ]
  },
  {
   "cell_type": "markdown",
   "id": "459d57c2",
   "metadata": {},
   "source": [
    "<details>\n",
    "<summary>Cheatsheet</summary>\n",
    "\n",
    "#### Prompt\n",
    "\n",
    "```shell\n",
    "@workspace Generate a GitHub action that transforms the data on every push and pull request \n",
    "```\n",
    "\n",
    "#### Expected output\n",
    "\n",
    "```markdown\n",
    "To create a GitHub Action that will transform the data using your CLI, you can create a workflow file in the `.github/workflows` directory. Here is an example of a GitHub Action workflow file named `transform-data.yml`:\n",
    "\n",
    "    ```yaml\n",
    "    // Workflow omitted, since this is the final bonus!\n",
    "    ```\n",
    "\n",
    "This workflow will:\n",
    "\n",
    "* Trigger on pushes to the main branch and on manual dispatch.\n",
    "* Check out the repository.\n",
    "* Set up Python.\n",
    "* Install the necessary dependencies (in this case, pandas).\n",
    "* Run the data transformation using the `run_all` command from your CLI.\n",
    "* Upload the transformed data as an artifact."
   ]
  },
  {
   "cell_type": "markdown",
   "id": "e5a296ca",
   "metadata": {},
   "source": [
    "## Clean-up\n",
    "\n",
    "### 1. Delete your Codespace\n",
    "\n",
    "⏳ **~1min**\n",
    "\n",
    "Before deleting, if you wish, you can push your changes. Remember workshop repositories are temporary too.\n",
    "\n",
    "Go to https://github.com/codespaces and find your current running Codespace and delete it."
   ]
  },
  {
   "cell_type": "markdown",
   "id": "6f91cc9d",
   "metadata": {},
   "source": [
    "## Additional resources\n",
    "\n",
    "If you want to learn more about using GitHub Copilot, check out these resources:\n",
    "\n",
    "* [GitHub Copilot Documentation](https://docs.github.com/copilot)\n",
    "* [VS Code video series: GitHub Copilot](https://www.youtube.com/playlist?list=PLj6YeMhvp2S7rQaCLRrMnzRdkNdKnMVwg)\n",
    "* [Blog: Best practices for prompting Copilot](http://blog.pamelafox.org/2023/06/best-practices-for-prompting-github.html)\n",
    "\n",
    "Also check out the [GitHub Foundations learning path](https://learn.microsoft.com/training/paths/github-foundations/) for more resources on GitHub and GitHub Copilot."
   ]
  }
 ],
 "metadata": {
  "language_info": {
   "name": "python"
  }
 },
 "nbformat": 4,
 "nbformat_minor": 5
}
