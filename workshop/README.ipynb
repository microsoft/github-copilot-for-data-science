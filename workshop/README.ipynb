{
 "cells": [
  {
   "cell_type": "markdown",
   "id": "329448a2",
   "metadata": {},
   "source": [
    "# Introduction to GitHub Copilot for Data Science"
   ]
  },
  {
   "cell_type": "markdown",
   "id": "db7c2b23",
   "metadata": {},
   "source": [
    "---\n",
    "## Intro\n",
    "\n",
    "This repository contains the source code for the complete workshop. You will follow the step-by-step guide below, completing all the steps while working with data and GitHub Copilot within Codespaces."
   ]
  },
  {
   "cell_type": "markdown",
   "id": "b8d8189c",
   "metadata": {},
   "source": [
    "> 📝 **Note:**\n",
    "> This repo is intended to give an introduction to various **GitHub Copilot** features, such as **Copilot Chat** and **inline chat**. Hence the step-by-step guides below contain the general description of what needs to be done, and Copilot Chat or inline chat can support you in generating the necessary commands.\n",
    ">\n",
    "> Each step (where applicable) also contains a `Cheatsheet` which has some suggested prompts if you get stuck.\n",
    "\n",
    "> 💡 Play around with different prompts and see how it affects the accuracy of the GitHub Copilot suggestions. For example, when using inline chat, you can use an additional prompt to refine the response without having to rewrite the whole prompt."
   ]
  },
  {
   "cell_type": "markdown",
   "id": "df78fdde",
   "metadata": {},
   "source": [
    "### Data Science Project features\n",
    "\n",
    "In this workshop, you will be working with CSV data included in this repository, as well as a Jupyter Notebook that starts some analysis of the data. Here are some features of the project you will work with:\n",
    "\n",
    "1. Consume a CSV dataset and clean it\n",
    "1. Identify correlations and create polished, exportable results\n",
    "1. Fast track creating a new analysis notebook from scratch"
   ]
  },
  {
   "cell_type": "markdown",
   "id": "929a631f",
   "metadata": {},
   "source": [
    "## Workshop Preparation"
   ]
  },
  {
   "cell_type": "markdown",
   "id": "7c0a8d51",
   "metadata": {},
   "source": [
    "\n",
    "This repository is Codespaces-ready and is pre-configured so that you have all dependencies installed including the Visual Studio Code extensions necessary to work with GitHub Copilot, Jupyter Notebooks, and Python:\n",
    "\n",
    "- GitHub Copilot\n",
    "- Python extension\n",
    "- Jupyter extension\n",
    "- Pre-installed Python dependencies with an activated Virtual Environment\n",
    "\n",
    "> ❗\n",
    "> If using this repository in your account or a non-GitHub-Universe organization, you might incur in charges or consumption of your free quota for Codespaces."
   ]
  },
  {
   "cell_type": "markdown",
   "id": "a1c0d503",
   "metadata": {},
   "source": [
    "### 1. Create a new repository from this template\n",
    "\n",
    "Progress: [🟢⚪⚪⚪⚪⚪⚪⚪⚪⚪⚪⚪] 1/12 (8%)\n",
    "\n",
    "⏳ **~2min**\n",
    "\n",
    "- Click `Use this template` $\\rightarrow$ `Create a new repository`\n",
    "- Set the owner to #TODO: What org for this?\n",
    "- Give it a name\n",
    "- Set visibility to `Private`\n",
    "- Click `Create repository`"
   ]
  },
  {
   "cell_type": "markdown",
   "id": "8bbed719",
   "metadata": {},
   "source": [
    "### 2. Create a Codespace using the provided template\n",
    "\n",
    "⏳ **~3min**\n",
    "\n",
    "- In the newly created repo, click `Code` $\\rightarrow$ `Codespaces` $\\rightarrow$ `[ellipsis menu]` $\\rightarrow$ `New with options` $\\rightarrow$ _Ensure that `Dev container configuration` is set to `Default project configuration`_ $\\rightarrow$ `Create codespace`\n",
    "- ❗If you're having problems launching the Codespace then you can also clone the repo and continue from here in your IDE:\n",
    "\n",
    "    ```sh\n",
    "    git clone https://github.com/<YOUR_NAME_SPACE>/<YOUR_REPO_NAME>.git\n",
    "    cd <YOUR_REPO_NAME>\n",
    "    ```\n",
    "\n",
    "> 📝 **Note:** There is no need to push changes back to the repo during the workshop"
   ]
  },
  {
   "cell_type": "markdown",
   "id": "8282df8d",
   "metadata": {},
   "source": [
    "### 3. Verify Python is installed and set correctly\n",
    "\n",
    "⏳ **~2min**\n",
    "\n",
    "- Use the command palette to toggle the terminal (search for \"Create new terminal\")\n",
    "- Run `which python` and make sure it points to the Virtual Environment (`home/vscode/venv/bin/python`)\n",
    "- Run `which pip` and ensure that it also points to the Virtual Environment (`home/vscode/venv/bin/pip`)"
   ]
  },
  {
   "cell_type": "markdown",
   "id": "effed53d",
   "metadata": {},
   "source": [
    "### 4. Open relevant files\n",
    "\n",
    "⏳ **~2min**\n",
    "\n",
    "GitHub Copilot benefits from having context. One way to enhance context is by opening relevant files, else you can add them into your prompt context later.\n",
    "\n",
    "- Open the `villagers.csv`, `furnature.csv` and `villagers_analysis.ipynb` data files."
   ]
  },
  {
   "cell_type": "markdown",
   "id": "baf19413",
   "metadata": {},
   "source": [
    "## Data Wrangling"
   ]
  },
  {
   "cell_type": "markdown",
   "id": "771955d2",
   "metadata": {},
   "source": [
    "### 1. See how much you can learn about the project and the data\n",
    "\n",
    "⏳ **~5min**\n",
    "\n",
    "- Open GitHub Copilot Chat\n",
    "- Use the `@workspace` agent to ask Copilot what is the nature of the data you are going to work with\n",
    "- Also ask `@workspace` what sort of python packages the project uses, and in what ways"
   ]
  },
  {
   "cell_type": "markdown",
   "id": "5afb8d9b",
   "metadata": {},
   "source": [
    "### 2. Review the data files with Data Wrangler\n",
    "\n",
    "⏳ **~5min**\n",
    "\n",
    "- Right click on `data/acnh-data/fish.csv`, and open it with Data Wrangler. If it needs a kernel selected, choose the the `venv` Python environment\n",
    "- Scroll around and look at the state of the data, noting all of the column summaries at the top\n",
    "- Using the Copilot agent built into Data Wrangler in the panel below the grid, ask it to change the values of the `Rain/Snow Catch Up` column to a bool type with 0 as false\n",
    "- Export your new data as a csv file `fish-cleaned.csv` via the button just above the grid that says `Export to CSV`\n",
    "\n",
    ">💡 If you need to repeat the same cleaning process many times, you can export your steps in Data Wrangler to a reuseable notebook or as python code to your clipbord!\n"
   ]
  },
  {
   "cell_type": "markdown",
   "id": "85901e93",
   "metadata": {},
   "source": [
    "<details>\n",
    "<summary>Cheatsheet</summary>\n",
    "\n",
    "##### Prompt\n",
    "\n",
    "```sh\n",
    "Clean up the rain/snow column so that it is a bool type and No is false\n",
    "```\n",
    "\n",
    "</details>"
   ]
  },
  {
   "cell_type": "markdown",
   "id": "7b459f7c",
   "metadata": {},
   "source": [
    "## Initial analysis"
   ]
  },
  {
   "cell_type": "markdown",
   "id": "7e60340f",
   "metadata": {},
   "source": [
    "### 3. Start a new notebook for the cleaned fish data\n",
    "\n",
    "⏳ **~5min**\n",
    "\n",
    "- Open the Copilot chat panel from the icon in the top menubar or the command pallet (View: Toggle Chat)\n",
    "- In the text box at the bottom click the add context button and select `Files & Folders...`, navigate to your newly cleaned `fish-cleaned.csv`, and select it\n",
    "- In the bottom left of the chat box, select the `ds-create` mode for the chat.\n",
    "- Ask Copilot to start a new project for this data in the chat panel text box\n"
   ]
  },
  {
   "cell_type": "markdown",
   "id": "6ce8564a",
   "metadata": {},
   "source": [
    "<details>\n",
    "<summary>Cheatsheet</summary>\n",
    "\n",
    "##### Prompt\n",
    "\n",
    "```sh\n",
    "Start a new analysis for this data\n",
    "```\n",
    "\n",
    "</details>"
   ]
  },
  {
   "cell_type": "markdown",
   "id": "98fe0240",
   "metadata": {},
   "source": [
    "### 4. Review and edit visualizations inline in notebooks\n",
    "\n",
    "⏳ **~3min**\n",
    "\n",
    "- In your newly created notebook, go to a cell output that has some sort of plot\n",
    "- Can click and drag it to the Copilot chat panel and ask directly for it to change something about the plot (you can also add it by clicking the `...` to the top right of the cell)\n"
   ]
  },
  {
   "cell_type": "markdown",
   "id": "1ee2998e",
   "metadata": {},
   "source": [
    "<details>\n",
    "<summary>Cheatsheet</summary>\n",
    "\n",
    "##### Prompt\n",
    "\n",
    "```sh\n",
    "Can you make all of these plots higher dpi and using colorblind safe color pallets?\n",
    "```\n",
    "\n",
    "</details>"
   ]
  },
  {
   "cell_type": "markdown",
   "id": "0b56ab9e",
   "metadata": {},
   "source": [
    "## Extending and refining notebooks"
   ]
  },
  {
   "cell_type": "markdown",
   "id": "dd563067",
   "metadata": {},
   "source": [
    "### 5. Continue the villager analysis with the `ds-categorical-analysis` agent\n",
    "\n",
    "⏳ **~5min**\n",
    "\n",
    "- Open the `villager_analysis.ipynb` file and the copilot chat side panel\n",
    "- Add the notebook to the context of the chat and switch the agent to the `ds-categorical-analysis` mode.\n",
    "- Ask Copilot to extend the analysis of the villagers and see if there are any villager traits that are corelated.\n"
   ]
  },
  {
   "cell_type": "markdown",
   "id": "4a6bbe63",
   "metadata": {},
   "source": [
    "<details>\n",
    "<summary>Cheatsheet</summary>\n",
    "\n",
    "##### Prompt\n",
    "\n",
    "```sh\n",
    "Help me figure out if any properties of the villagers are correlated.\n",
    "```\n",
    "\n",
    "</details>"
   ]
  },
  {
   "cell_type": "markdown",
   "id": "86cf7d21",
   "metadata": {},
   "source": [
    "### 6. Prepare graphics for export\n",
    "\n",
    "⏳ **~5min**\n",
    "\n",
    "- In a cell generating plots in the notebook, open inline Copilot chat (Ctrl-i / Cmd-i) and ask the agent to help add a method to export the plots in that cell as high resolution pngs"
   ]
  },
  {
   "cell_type": "markdown",
   "id": "35499d7d",
   "metadata": {},
   "source": [
    "<details>\n",
    "<summary>Cheatsheet</summary>\n",
    "\n",
    "##### Prompt\n",
    "\n",
    "```sh\n",
    "Export all the plots in this cell as high DPI PNGs \n",
    "```\n",
    "\n",
    "</details>"
   ]
  },
  {
   "cell_type": "markdown",
   "id": "29599ead",
   "metadata": {},
   "source": [
    "## Bonus\n",
    "\n",
    "There are a couple of bonus challenges if you've completed all the tasks and your scripts are in good shape."
   ]
  },
  {
   "cell_type": "markdown",
   "id": "efc7a4ac",
   "metadata": {},
   "source": [
    "### Bonus Challenge 1 - Create a robust CLI tool\n",
    "\n",
    "Progress: [🟢🟢🟢🟢🟢🟢🟢🟢🟢🟢🟢🟢] 12/12 (100%) 🎉  \n",
    "Optional: [🚀 Turbo Boost! (1/2) 33%]\n",
    "\n",
    "- Use GitHub Copilot chat with the `@workspace` prefix to convert the project into a CLI with options and a help menu\n",
    "- Ensure that the prompt specifies no external dependencies and it should only use the standard library"
   ]
  },
  {
   "cell_type": "markdown",
   "id": "43980519",
   "metadata": {},
   "source": [
    "<details>\n",
    "<summary>Cheatsheet</summary>\n",
    "\n",
    "#### Prompt\n",
    "\n",
    "```shell\n",
    "@workspace I want to convert this project into a CLI with a help menu. Help me do this without using any dependencies, just pure Python standard library\n",
    "```\n",
    "\n",
    "#### Expected output\n",
    "\n",
    "```python\n",
    "def main():\n",
    "    parser = argparse.ArgumentParser(description=\"DataFrame manipulation CLI\")\n",
    "    subparsers = parser.add_subparsers(dest=\"command\")\n",
    "\n",
    "    subparsers.add_parser(\"drop_notes\", help=\"Drop the 'notes' column from the DataFrame\")\n",
    "    subparsers.add_parser(\"select_high_ratings\", help=\"Select rows where the 'rating' column is 90 or higher\")\n",
    "    subparsers.add_parser(\"drop_and_one_hot_encode_red_wine\", help=\"One-hot encode 'Red Wine' and drop 'variety' column\")\n",
    "    subparsers.add_parser(\"remove_newlines_carriage_returns\", help=\"Remove newlines and carriage returns from string columns\")\n",
    "    subparsers.add_parser(\"convert_ratings_to_int\", help=\"Convert the 'rating' column from float to integer\")\n",
    "\n",
    "    args = parser.parse_args()\n",
    "\n",
    "    # Load your DataFrame here\n",
    "    df = pd.read_csv('workshop/train.csv')\n",
    "\n",
    "    if args.command == \"drop_notes\":\n",
    "        df = drop_notes(df)\n",
    "    elif args.command == \"select_high_ratings\":\n",
    "        df = select_high_ratings(df)\n",
    "    elif args.command == \"drop_and_one_hot_encode_red_wine\":\n",
    "        df = drop_and_one_hot_encode_red_wine(df)\n",
    "    elif args.command == \"remove_newlines_carriage_returns\":\n",
    "        df = remove_newlines_carriage_returns(df)\n",
    "    elif args.command == \"convert_ratings_to_int\":\n",
    "        df = convert_ratings_to_int(df)\n",
    "    else:\n",
    "        parser.print_help()\n",
    "\n",
    "    # Save the transformed DataFrame\n",
    "    df.to_csv('workshop/transformed_train.csv', index=False)\n",
    "\n",
    "if __name__ == \"__main__\":\n",
    "    main()\n",
    "```\n",
    "</details>"
   ]
  },
  {
   "cell_type": "markdown",
   "id": "69cbf07c",
   "metadata": {},
   "source": [
    "### Bonus Challenge 2 - Document your project\n",
    "\n",
    "Progress: [🟢🟢🟢🟢🟢🟢🟢🟢🟢🟢🟢🟢] 12/12 (100%) 🎉  \n",
    "Optional: [🚀 Turbo Boost! (1/2) 33%]  \n",
    "Optional: [🌟 Extra Points! (2/2) 66%]\n",
    "\n",
    "- Create a new `docs/` folder and a file called `README.md`\n",
    "- Use GitHub Copilot chat with the `@workspace` prefix to get started documenting your project using Markdown in a README.md\n",
    "- In your prompt, ask for help documenting the project goals, the nature of the data in the CSV files, and how the CLI works."
   ]
  },
  {
   "cell_type": "markdown",
   "id": "5db43703",
   "metadata": {},
   "source": [
    "<details>\n",
    "<summary>Cheatsheet</summary>\n",
    "\n",
    "#### Prompt\n",
    "\n",
    "```shell\n",
    "@workspace help me create a good README.md file in Markdown so that I can document this and help others understand how it works and the nature of the data\n",
    "```\n",
    "\n",
    "#### Expected output\n",
    "\n",
    "```markdown\n",
    "# DataFrame Manipulation CLI\n",
    "\n",
    "This project provides a command-line interface (CLI) for manipulating a DataFrame using various operations. The CLI is built using the Python standard library and does not require any external dependencies.\n",
    "\n",
    "...\n",
    "```\n",
    "</details>"
   ]
  },
  {
   "cell_type": "markdown",
   "id": "6199faf5",
   "metadata": {},
   "source": [
    "### Bonus Challenge 3 - Automate the data transformation\n",
    "\n",
    "Progress: [🟢🟢🟢🟢🟢🟢🟢🟢🟢🟢🟢🟢] 12/12 (100%) 🎉  \n",
    "Optional: [🚀 Turbo Boost! (1/2) 33%]  \n",
    "Optional: [🌟 Extra Points! (2/2) 66%]  \n",
    "Optional: [🏆 Triple Threat! (2/2) 100%]\n",
    "\n",
    "- Create a new file called `transform-data.yaml` in the `.github/workflows/` directory.\n",
    "- Use GitHub Copilot chat with the `@workspace` prefix to create a GitHub Action that will transform the data whenever a push or pull request is made to the repository.\n",
    "- Open a pull request to test the action. If any errors occur, use the GitHub Copilot chat to help you fix them."
   ]
  },
  {
   "cell_type": "markdown",
   "id": "459d57c2",
   "metadata": {},
   "source": [
    "<details>\n",
    "<summary>Cheatsheet</summary>\n",
    "\n",
    "#### Prompt\n",
    "\n",
    "```shell\n",
    "@workspace Generate a GitHub action that transforms the data on every push and pull request \n",
    "```\n",
    "\n",
    "#### Expected output\n",
    "\n",
    "```markdown\n",
    "To create a GitHub Action that will transform the data using your CLI, you can create a workflow file in the `.github/workflows` directory. Here is an example of a GitHub Action workflow file named `transform-data.yml`:\n",
    "\n",
    "    ```yaml\n",
    "    // Workflow omitted, since this is the final bonus!\n",
    "    ```\n",
    "\n",
    "This workflow will:\n",
    "\n",
    "* Trigger on pushes to the main branch and on manual dispatch.\n",
    "* Check out the repository.\n",
    "* Set up Python.\n",
    "* Install the necessary dependencies (in this case, pandas).\n",
    "* Run the data transformation using the `run_all` command from your CLI.\n",
    "* Upload the transformed data as an artifact."
   ]
  },
  {
   "cell_type": "markdown",
   "id": "e5a296ca",
   "metadata": {},
   "source": [
    "## Clean-up\n",
    "\n",
    "### 1. Delete your Codespace\n",
    "\n",
    "⏳ **~1min**\n",
    "\n",
    "Before deleting, if you wish, you can push your changes. Remember workshop repositories are temporary too.\n",
    "\n",
    "Go to https://github.com/codespaces and find your current running Codespace and delete it."
   ]
  },
  {
   "cell_type": "markdown",
   "id": "6f91cc9d",
   "metadata": {},
   "source": [
    "## Additional resources\n",
    "\n",
    "If you want to learn more about using GitHub Copilot, check out these resources:\n",
    "\n",
    "* [GitHub Copilot Documentation](https://docs.github.com/copilot)\n",
    "* [VS Code video series: GitHub Copilot](https://www.youtube.com/playlist?list=PLj6YeMhvp2S7rQaCLRrMnzRdkNdKnMVwg)\n",
    "* [Blog: Best practices for prompting Copilot](http://blog.pamelafox.org/2023/06/best-practices-for-prompting-github.html)\n",
    "\n",
    "Also check out the [GitHub Foundations learning path](https://learn.microsoft.com/training/paths/github-foundations/) for more resources on GitHub and GitHub Copilot."
   ]
  }
 ],
 "metadata": {
  "language_info": {
   "name": "python"
  }
 },
 "nbformat": 4,
 "nbformat_minor": 5
}
